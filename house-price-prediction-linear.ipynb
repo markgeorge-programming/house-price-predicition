{
 "cells": [
  {
   "cell_type": "markdown",
   "id": "6e8af960",
   "metadata": {
    "papermill": {
     "duration": 0.004515,
     "end_time": "2025-09-13T21:35:33.891614",
     "exception": false,
     "start_time": "2025-09-13T21:35:33.887099",
     "status": "completed"
    },
    "tags": []
   },
   "source": [
    "<div style=\"background-color:white;box-shadow:10px 10px   gray;color:black;font-size:70px;text-align:center;border-radius:20px\">House Price Prediction</div>"
   ]
  },
  {
   "cell_type": "markdown",
   "id": "470d893e",
   "metadata": {
    "papermill": {
     "duration": 0.003403,
     "end_time": "2025-09-13T21:35:33.899115",
     "exception": false,
     "start_time": "2025-09-13T21:35:33.895712",
     "status": "completed"
    },
    "tags": []
   },
   "source": [
    "<div style=\"text-align:center;font-size:26px;border-radus:10px;border-color:white;\">Welcome to my attempt at the house price prediction price comptetion, Here I will try to get the lowest RMSE Using Simple Linear Regression model (along with some other models like Polynomial , Lasso , Ridge"
   ]
  },
  {
   "cell_type": "markdown",
   "id": "f74d568c",
   "metadata": {
    "execution": {
     "iopub.execute_input": "2025-09-13T20:21:00.216482Z",
     "iopub.status.busy": "2025-09-13T20:21:00.216085Z",
     "iopub.status.idle": "2025-09-13T20:21:00.222800Z",
     "shell.execute_reply": "2025-09-13T20:21:00.221619Z",
     "shell.execute_reply.started": "2025-09-13T20:21:00.216456Z"
    },
    "papermill": {
     "duration": 0.003273,
     "end_time": "2025-09-13T21:35:33.905979",
     "exception": false,
     "start_time": "2025-09-13T21:35:33.902706",
     "status": "completed"
    },
    "tags": []
   },
   "source": [
    "# <div style=\"background-color:white;padding:20px;box-shadow:10px 10px  gray;color:black;font-size:40px;text-align:center;border-radius:20px\">1- Data Preproccessing</div>"
   ]
  },
  {
   "cell_type": "code",
   "execution_count": 1,
   "id": "e8251ac9",
   "metadata": {
    "_execution_state": "idle",
    "_uuid": "051d70d956493feee0c6d64651c6a088724dca2a",
    "execution": {
     "iopub.execute_input": "2025-09-13T21:35:33.914027Z",
     "iopub.status.busy": "2025-09-13T21:35:33.913757Z",
     "iopub.status.idle": "2025-09-13T21:35:36.489059Z",
     "shell.execute_reply": "2025-09-13T21:35:36.488459Z"
    },
    "papermill": {
     "duration": 2.581041,
     "end_time": "2025-09-13T21:35:36.490434",
     "exception": false,
     "start_time": "2025-09-13T21:35:33.909393",
     "status": "completed"
    },
    "tags": []
   },
   "outputs": [],
   "source": [
    "import pandas as pd\n",
    "import numpy as np\n",
    "from sklearn.metrics import mean_squared_error\n",
    "from sklearn.linear_model import LinearRegression, Ridge, Lasso\n",
    "from sklearn.model_selection import cross_val_score\n",
    "np.random.seed(42)"
   ]
  },
  {
   "cell_type": "code",
   "execution_count": 2,
   "id": "a67c27f4",
   "metadata": {
    "execution": {
     "iopub.execute_input": "2025-09-13T21:35:36.499480Z",
     "iopub.status.busy": "2025-09-13T21:35:36.498742Z",
     "iopub.status.idle": "2025-09-13T21:35:36.564300Z",
     "shell.execute_reply": "2025-09-13T21:35:36.563732Z"
    },
    "papermill": {
     "duration": 0.071334,
     "end_time": "2025-09-13T21:35:36.565671",
     "exception": false,
     "start_time": "2025-09-13T21:35:36.494337",
     "status": "completed"
    },
    "tags": []
   },
   "outputs": [],
   "source": [
    "# Import test and train csv's\n",
    "train = pd.read_csv(\"/kaggle/input/house-prices-advanced-regression-techniques/train.csv\")\n",
    "test  = pd.read_csv(\"/kaggle/input/house-prices-advanced-regression-techniques/test.csv\")"
   ]
  },
  {
   "cell_type": "code",
   "execution_count": 3,
   "id": "97344d1d",
   "metadata": {
    "execution": {
     "iopub.execute_input": "2025-09-13T21:35:36.574882Z",
     "iopub.status.busy": "2025-09-13T21:35:36.574227Z",
     "iopub.status.idle": "2025-09-13T21:35:36.602212Z",
     "shell.execute_reply": "2025-09-13T21:35:36.601462Z"
    },
    "papermill": {
     "duration": 0.033729,
     "end_time": "2025-09-13T21:35:36.603429",
     "exception": false,
     "start_time": "2025-09-13T21:35:36.569700",
     "status": "completed"
    },
    "tags": []
   },
   "outputs": [
    {
     "data": {
      "text/html": [
       "<div>\n",
       "<style scoped>\n",
       "    .dataframe tbody tr th:only-of-type {\n",
       "        vertical-align: middle;\n",
       "    }\n",
       "\n",
       "    .dataframe tbody tr th {\n",
       "        vertical-align: top;\n",
       "    }\n",
       "\n",
       "    .dataframe thead th {\n",
       "        text-align: right;\n",
       "    }\n",
       "</style>\n",
       "<table border=\"1\" class=\"dataframe\">\n",
       "  <thead>\n",
       "    <tr style=\"text-align: right;\">\n",
       "      <th></th>\n",
       "      <th>Id</th>\n",
       "      <th>MSSubClass</th>\n",
       "      <th>MSZoning</th>\n",
       "      <th>LotFrontage</th>\n",
       "      <th>LotArea</th>\n",
       "      <th>Street</th>\n",
       "      <th>Alley</th>\n",
       "      <th>LotShape</th>\n",
       "      <th>LandContour</th>\n",
       "      <th>Utilities</th>\n",
       "      <th>...</th>\n",
       "      <th>PoolArea</th>\n",
       "      <th>PoolQC</th>\n",
       "      <th>Fence</th>\n",
       "      <th>MiscFeature</th>\n",
       "      <th>MiscVal</th>\n",
       "      <th>MoSold</th>\n",
       "      <th>YrSold</th>\n",
       "      <th>SaleType</th>\n",
       "      <th>SaleCondition</th>\n",
       "      <th>SalePrice</th>\n",
       "    </tr>\n",
       "  </thead>\n",
       "  <tbody>\n",
       "    <tr>\n",
       "      <th>0</th>\n",
       "      <td>1</td>\n",
       "      <td>60</td>\n",
       "      <td>RL</td>\n",
       "      <td>65.0</td>\n",
       "      <td>8450</td>\n",
       "      <td>Pave</td>\n",
       "      <td>NaN</td>\n",
       "      <td>Reg</td>\n",
       "      <td>Lvl</td>\n",
       "      <td>AllPub</td>\n",
       "      <td>...</td>\n",
       "      <td>0</td>\n",
       "      <td>NaN</td>\n",
       "      <td>NaN</td>\n",
       "      <td>NaN</td>\n",
       "      <td>0</td>\n",
       "      <td>2</td>\n",
       "      <td>2008</td>\n",
       "      <td>WD</td>\n",
       "      <td>Normal</td>\n",
       "      <td>208500</td>\n",
       "    </tr>\n",
       "    <tr>\n",
       "      <th>1</th>\n",
       "      <td>2</td>\n",
       "      <td>20</td>\n",
       "      <td>RL</td>\n",
       "      <td>80.0</td>\n",
       "      <td>9600</td>\n",
       "      <td>Pave</td>\n",
       "      <td>NaN</td>\n",
       "      <td>Reg</td>\n",
       "      <td>Lvl</td>\n",
       "      <td>AllPub</td>\n",
       "      <td>...</td>\n",
       "      <td>0</td>\n",
       "      <td>NaN</td>\n",
       "      <td>NaN</td>\n",
       "      <td>NaN</td>\n",
       "      <td>0</td>\n",
       "      <td>5</td>\n",
       "      <td>2007</td>\n",
       "      <td>WD</td>\n",
       "      <td>Normal</td>\n",
       "      <td>181500</td>\n",
       "    </tr>\n",
       "    <tr>\n",
       "      <th>2</th>\n",
       "      <td>3</td>\n",
       "      <td>60</td>\n",
       "      <td>RL</td>\n",
       "      <td>68.0</td>\n",
       "      <td>11250</td>\n",
       "      <td>Pave</td>\n",
       "      <td>NaN</td>\n",
       "      <td>IR1</td>\n",
       "      <td>Lvl</td>\n",
       "      <td>AllPub</td>\n",
       "      <td>...</td>\n",
       "      <td>0</td>\n",
       "      <td>NaN</td>\n",
       "      <td>NaN</td>\n",
       "      <td>NaN</td>\n",
       "      <td>0</td>\n",
       "      <td>9</td>\n",
       "      <td>2008</td>\n",
       "      <td>WD</td>\n",
       "      <td>Normal</td>\n",
       "      <td>223500</td>\n",
       "    </tr>\n",
       "    <tr>\n",
       "      <th>3</th>\n",
       "      <td>4</td>\n",
       "      <td>70</td>\n",
       "      <td>RL</td>\n",
       "      <td>60.0</td>\n",
       "      <td>9550</td>\n",
       "      <td>Pave</td>\n",
       "      <td>NaN</td>\n",
       "      <td>IR1</td>\n",
       "      <td>Lvl</td>\n",
       "      <td>AllPub</td>\n",
       "      <td>...</td>\n",
       "      <td>0</td>\n",
       "      <td>NaN</td>\n",
       "      <td>NaN</td>\n",
       "      <td>NaN</td>\n",
       "      <td>0</td>\n",
       "      <td>2</td>\n",
       "      <td>2006</td>\n",
       "      <td>WD</td>\n",
       "      <td>Abnorml</td>\n",
       "      <td>140000</td>\n",
       "    </tr>\n",
       "    <tr>\n",
       "      <th>4</th>\n",
       "      <td>5</td>\n",
       "      <td>60</td>\n",
       "      <td>RL</td>\n",
       "      <td>84.0</td>\n",
       "      <td>14260</td>\n",
       "      <td>Pave</td>\n",
       "      <td>NaN</td>\n",
       "      <td>IR1</td>\n",
       "      <td>Lvl</td>\n",
       "      <td>AllPub</td>\n",
       "      <td>...</td>\n",
       "      <td>0</td>\n",
       "      <td>NaN</td>\n",
       "      <td>NaN</td>\n",
       "      <td>NaN</td>\n",
       "      <td>0</td>\n",
       "      <td>12</td>\n",
       "      <td>2008</td>\n",
       "      <td>WD</td>\n",
       "      <td>Normal</td>\n",
       "      <td>250000</td>\n",
       "    </tr>\n",
       "  </tbody>\n",
       "</table>\n",
       "<p>5 rows × 81 columns</p>\n",
       "</div>"
      ],
      "text/plain": [
       "   Id  MSSubClass MSZoning  LotFrontage  LotArea Street Alley LotShape  \\\n",
       "0   1          60       RL         65.0     8450   Pave   NaN      Reg   \n",
       "1   2          20       RL         80.0     9600   Pave   NaN      Reg   \n",
       "2   3          60       RL         68.0    11250   Pave   NaN      IR1   \n",
       "3   4          70       RL         60.0     9550   Pave   NaN      IR1   \n",
       "4   5          60       RL         84.0    14260   Pave   NaN      IR1   \n",
       "\n",
       "  LandContour Utilities  ... PoolArea PoolQC Fence MiscFeature MiscVal MoSold  \\\n",
       "0         Lvl    AllPub  ...        0    NaN   NaN         NaN       0      2   \n",
       "1         Lvl    AllPub  ...        0    NaN   NaN         NaN       0      5   \n",
       "2         Lvl    AllPub  ...        0    NaN   NaN         NaN       0      9   \n",
       "3         Lvl    AllPub  ...        0    NaN   NaN         NaN       0      2   \n",
       "4         Lvl    AllPub  ...        0    NaN   NaN         NaN       0     12   \n",
       "\n",
       "  YrSold  SaleType  SaleCondition  SalePrice  \n",
       "0   2008        WD         Normal     208500  \n",
       "1   2007        WD         Normal     181500  \n",
       "2   2008        WD         Normal     223500  \n",
       "3   2006        WD        Abnorml     140000  \n",
       "4   2008        WD         Normal     250000  \n",
       "\n",
       "[5 rows x 81 columns]"
      ]
     },
     "execution_count": 3,
     "metadata": {},
     "output_type": "execute_result"
    }
   ],
   "source": [
    "#get train head to look at dataset\n",
    "train.head()"
   ]
  },
  {
   "cell_type": "markdown",
   "id": "36aa9c7b",
   "metadata": {
    "papermill": {
     "duration": 0.005027,
     "end_time": "2025-09-13T21:35:36.612462",
     "exception": false,
     "start_time": "2025-09-13T21:35:36.607435",
     "status": "completed"
    },
    "tags": []
   },
   "source": [
    "<div style=\"font-size:26px;border-radus:10px;border-color:white;\">This Dataset has a lot of categorical columns and few numerical columns! <br>\n",
    "Now let's seperate target SalePrice from the rest of the dataset</div>"
   ]
  },
  {
   "cell_type": "code",
   "execution_count": 4,
   "id": "081c22c9",
   "metadata": {
    "execution": {
     "iopub.execute_input": "2025-09-13T21:35:36.620783Z",
     "iopub.status.busy": "2025-09-13T21:35:36.620513Z",
     "iopub.status.idle": "2025-09-13T21:35:36.634832Z",
     "shell.execute_reply": "2025-09-13T21:35:36.634058Z"
    },
    "papermill": {
     "duration": 0.019964,
     "end_time": "2025-09-13T21:35:36.636120",
     "exception": false,
     "start_time": "2025-09-13T21:35:36.616156",
     "status": "completed"
    },
    "tags": []
   },
   "outputs": [],
   "source": [
    "X_train=train.drop(columns=['Id','SalePrice'])\n",
    "y_train=np.log1p(train['SalePrice']) \n",
    "#IMPORTANT: don't forget to log sale price so the RMSE is not too large\n",
    "\n",
    "test_features=test.drop(columns=['Id'])\n",
    "#test dataset without ID to have same columns as train, and will not matter in our model\n",
    "\n",
    "full=pd.concat([X_train,test_features], axis=0)\n",
    "#a large dataset combining both training and test datasets to keep preproccessing consistent"
   ]
  },
  {
   "cell_type": "code",
   "execution_count": 5,
   "id": "7e44057a",
   "metadata": {
    "execution": {
     "iopub.execute_input": "2025-09-13T21:35:36.645334Z",
     "iopub.status.busy": "2025-09-13T21:35:36.645102Z",
     "iopub.status.idle": "2025-09-13T21:35:36.706112Z",
     "shell.execute_reply": "2025-09-13T21:35:36.705419Z"
    },
    "papermill": {
     "duration": 0.066773,
     "end_time": "2025-09-13T21:35:36.707490",
     "exception": false,
     "start_time": "2025-09-13T21:35:36.640717",
     "status": "completed"
    },
    "tags": []
   },
   "outputs": [
    {
     "data": {
      "text/html": [
       "<div>\n",
       "<style scoped>\n",
       "    .dataframe tbody tr th:only-of-type {\n",
       "        vertical-align: middle;\n",
       "    }\n",
       "\n",
       "    .dataframe tbody tr th {\n",
       "        vertical-align: top;\n",
       "    }\n",
       "\n",
       "    .dataframe thead th {\n",
       "        text-align: right;\n",
       "    }\n",
       "</style>\n",
       "<table border=\"1\" class=\"dataframe\">\n",
       "  <thead>\n",
       "    <tr style=\"text-align: right;\">\n",
       "      <th></th>\n",
       "      <th>MSSubClass</th>\n",
       "      <th>LotFrontage</th>\n",
       "      <th>LotArea</th>\n",
       "      <th>OverallQual</th>\n",
       "      <th>OverallCond</th>\n",
       "      <th>YearBuilt</th>\n",
       "      <th>YearRemodAdd</th>\n",
       "      <th>MasVnrArea</th>\n",
       "      <th>BsmtFinSF1</th>\n",
       "      <th>BsmtFinSF2</th>\n",
       "      <th>...</th>\n",
       "      <th>SaleType_ConLI</th>\n",
       "      <th>SaleType_ConLw</th>\n",
       "      <th>SaleType_New</th>\n",
       "      <th>SaleType_Oth</th>\n",
       "      <th>SaleType_WD</th>\n",
       "      <th>SaleCondition_AdjLand</th>\n",
       "      <th>SaleCondition_Alloca</th>\n",
       "      <th>SaleCondition_Family</th>\n",
       "      <th>SaleCondition_Normal</th>\n",
       "      <th>SaleCondition_Partial</th>\n",
       "    </tr>\n",
       "  </thead>\n",
       "  <tbody>\n",
       "    <tr>\n",
       "      <th>0</th>\n",
       "      <td>60</td>\n",
       "      <td>65.0</td>\n",
       "      <td>8450</td>\n",
       "      <td>7</td>\n",
       "      <td>5</td>\n",
       "      <td>2003</td>\n",
       "      <td>2003</td>\n",
       "      <td>196.0</td>\n",
       "      <td>706.0</td>\n",
       "      <td>0.0</td>\n",
       "      <td>...</td>\n",
       "      <td>False</td>\n",
       "      <td>False</td>\n",
       "      <td>False</td>\n",
       "      <td>False</td>\n",
       "      <td>True</td>\n",
       "      <td>False</td>\n",
       "      <td>False</td>\n",
       "      <td>False</td>\n",
       "      <td>True</td>\n",
       "      <td>False</td>\n",
       "    </tr>\n",
       "    <tr>\n",
       "      <th>1</th>\n",
       "      <td>20</td>\n",
       "      <td>80.0</td>\n",
       "      <td>9600</td>\n",
       "      <td>6</td>\n",
       "      <td>8</td>\n",
       "      <td>1976</td>\n",
       "      <td>1976</td>\n",
       "      <td>0.0</td>\n",
       "      <td>978.0</td>\n",
       "      <td>0.0</td>\n",
       "      <td>...</td>\n",
       "      <td>False</td>\n",
       "      <td>False</td>\n",
       "      <td>False</td>\n",
       "      <td>False</td>\n",
       "      <td>True</td>\n",
       "      <td>False</td>\n",
       "      <td>False</td>\n",
       "      <td>False</td>\n",
       "      <td>True</td>\n",
       "      <td>False</td>\n",
       "    </tr>\n",
       "    <tr>\n",
       "      <th>2</th>\n",
       "      <td>60</td>\n",
       "      <td>68.0</td>\n",
       "      <td>11250</td>\n",
       "      <td>7</td>\n",
       "      <td>5</td>\n",
       "      <td>2001</td>\n",
       "      <td>2002</td>\n",
       "      <td>162.0</td>\n",
       "      <td>486.0</td>\n",
       "      <td>0.0</td>\n",
       "      <td>...</td>\n",
       "      <td>False</td>\n",
       "      <td>False</td>\n",
       "      <td>False</td>\n",
       "      <td>False</td>\n",
       "      <td>True</td>\n",
       "      <td>False</td>\n",
       "      <td>False</td>\n",
       "      <td>False</td>\n",
       "      <td>True</td>\n",
       "      <td>False</td>\n",
       "    </tr>\n",
       "    <tr>\n",
       "      <th>3</th>\n",
       "      <td>70</td>\n",
       "      <td>60.0</td>\n",
       "      <td>9550</td>\n",
       "      <td>7</td>\n",
       "      <td>5</td>\n",
       "      <td>1915</td>\n",
       "      <td>1970</td>\n",
       "      <td>0.0</td>\n",
       "      <td>216.0</td>\n",
       "      <td>0.0</td>\n",
       "      <td>...</td>\n",
       "      <td>False</td>\n",
       "      <td>False</td>\n",
       "      <td>False</td>\n",
       "      <td>False</td>\n",
       "      <td>True</td>\n",
       "      <td>False</td>\n",
       "      <td>False</td>\n",
       "      <td>False</td>\n",
       "      <td>False</td>\n",
       "      <td>False</td>\n",
       "    </tr>\n",
       "    <tr>\n",
       "      <th>4</th>\n",
       "      <td>60</td>\n",
       "      <td>84.0</td>\n",
       "      <td>14260</td>\n",
       "      <td>8</td>\n",
       "      <td>5</td>\n",
       "      <td>2000</td>\n",
       "      <td>2000</td>\n",
       "      <td>350.0</td>\n",
       "      <td>655.0</td>\n",
       "      <td>0.0</td>\n",
       "      <td>...</td>\n",
       "      <td>False</td>\n",
       "      <td>False</td>\n",
       "      <td>False</td>\n",
       "      <td>False</td>\n",
       "      <td>True</td>\n",
       "      <td>False</td>\n",
       "      <td>False</td>\n",
       "      <td>False</td>\n",
       "      <td>True</td>\n",
       "      <td>False</td>\n",
       "    </tr>\n",
       "    <tr>\n",
       "      <th>...</th>\n",
       "      <td>...</td>\n",
       "      <td>...</td>\n",
       "      <td>...</td>\n",
       "      <td>...</td>\n",
       "      <td>...</td>\n",
       "      <td>...</td>\n",
       "      <td>...</td>\n",
       "      <td>...</td>\n",
       "      <td>...</td>\n",
       "      <td>...</td>\n",
       "      <td>...</td>\n",
       "      <td>...</td>\n",
       "      <td>...</td>\n",
       "      <td>...</td>\n",
       "      <td>...</td>\n",
       "      <td>...</td>\n",
       "      <td>...</td>\n",
       "      <td>...</td>\n",
       "      <td>...</td>\n",
       "      <td>...</td>\n",
       "      <td>...</td>\n",
       "    </tr>\n",
       "    <tr>\n",
       "      <th>1454</th>\n",
       "      <td>160</td>\n",
       "      <td>21.0</td>\n",
       "      <td>1936</td>\n",
       "      <td>4</td>\n",
       "      <td>7</td>\n",
       "      <td>1970</td>\n",
       "      <td>1970</td>\n",
       "      <td>0.0</td>\n",
       "      <td>0.0</td>\n",
       "      <td>0.0</td>\n",
       "      <td>...</td>\n",
       "      <td>False</td>\n",
       "      <td>False</td>\n",
       "      <td>False</td>\n",
       "      <td>False</td>\n",
       "      <td>True</td>\n",
       "      <td>False</td>\n",
       "      <td>False</td>\n",
       "      <td>False</td>\n",
       "      <td>True</td>\n",
       "      <td>False</td>\n",
       "    </tr>\n",
       "    <tr>\n",
       "      <th>1455</th>\n",
       "      <td>160</td>\n",
       "      <td>21.0</td>\n",
       "      <td>1894</td>\n",
       "      <td>4</td>\n",
       "      <td>5</td>\n",
       "      <td>1970</td>\n",
       "      <td>1970</td>\n",
       "      <td>0.0</td>\n",
       "      <td>252.0</td>\n",
       "      <td>0.0</td>\n",
       "      <td>...</td>\n",
       "      <td>False</td>\n",
       "      <td>False</td>\n",
       "      <td>False</td>\n",
       "      <td>False</td>\n",
       "      <td>True</td>\n",
       "      <td>False</td>\n",
       "      <td>False</td>\n",
       "      <td>False</td>\n",
       "      <td>False</td>\n",
       "      <td>False</td>\n",
       "    </tr>\n",
       "    <tr>\n",
       "      <th>1456</th>\n",
       "      <td>20</td>\n",
       "      <td>160.0</td>\n",
       "      <td>20000</td>\n",
       "      <td>5</td>\n",
       "      <td>7</td>\n",
       "      <td>1960</td>\n",
       "      <td>1996</td>\n",
       "      <td>0.0</td>\n",
       "      <td>1224.0</td>\n",
       "      <td>0.0</td>\n",
       "      <td>...</td>\n",
       "      <td>False</td>\n",
       "      <td>False</td>\n",
       "      <td>False</td>\n",
       "      <td>False</td>\n",
       "      <td>True</td>\n",
       "      <td>False</td>\n",
       "      <td>False</td>\n",
       "      <td>False</td>\n",
       "      <td>False</td>\n",
       "      <td>False</td>\n",
       "    </tr>\n",
       "    <tr>\n",
       "      <th>1457</th>\n",
       "      <td>85</td>\n",
       "      <td>62.0</td>\n",
       "      <td>10441</td>\n",
       "      <td>5</td>\n",
       "      <td>5</td>\n",
       "      <td>1992</td>\n",
       "      <td>1992</td>\n",
       "      <td>0.0</td>\n",
       "      <td>337.0</td>\n",
       "      <td>0.0</td>\n",
       "      <td>...</td>\n",
       "      <td>False</td>\n",
       "      <td>False</td>\n",
       "      <td>False</td>\n",
       "      <td>False</td>\n",
       "      <td>True</td>\n",
       "      <td>False</td>\n",
       "      <td>False</td>\n",
       "      <td>False</td>\n",
       "      <td>True</td>\n",
       "      <td>False</td>\n",
       "    </tr>\n",
       "    <tr>\n",
       "      <th>1458</th>\n",
       "      <td>60</td>\n",
       "      <td>74.0</td>\n",
       "      <td>9627</td>\n",
       "      <td>7</td>\n",
       "      <td>5</td>\n",
       "      <td>1993</td>\n",
       "      <td>1994</td>\n",
       "      <td>94.0</td>\n",
       "      <td>758.0</td>\n",
       "      <td>0.0</td>\n",
       "      <td>...</td>\n",
       "      <td>False</td>\n",
       "      <td>False</td>\n",
       "      <td>False</td>\n",
       "      <td>False</td>\n",
       "      <td>True</td>\n",
       "      <td>False</td>\n",
       "      <td>False</td>\n",
       "      <td>False</td>\n",
       "      <td>True</td>\n",
       "      <td>False</td>\n",
       "    </tr>\n",
       "  </tbody>\n",
       "</table>\n",
       "<p>2919 rows × 244 columns</p>\n",
       "</div>"
      ],
      "text/plain": [
       "      MSSubClass  LotFrontage  LotArea  OverallQual  OverallCond  YearBuilt  \\\n",
       "0             60         65.0     8450            7            5       2003   \n",
       "1             20         80.0     9600            6            8       1976   \n",
       "2             60         68.0    11250            7            5       2001   \n",
       "3             70         60.0     9550            7            5       1915   \n",
       "4             60         84.0    14260            8            5       2000   \n",
       "...          ...          ...      ...          ...          ...        ...   \n",
       "1454         160         21.0     1936            4            7       1970   \n",
       "1455         160         21.0     1894            4            5       1970   \n",
       "1456          20        160.0    20000            5            7       1960   \n",
       "1457          85         62.0    10441            5            5       1992   \n",
       "1458          60         74.0     9627            7            5       1993   \n",
       "\n",
       "      YearRemodAdd  MasVnrArea  BsmtFinSF1  BsmtFinSF2  ...  SaleType_ConLI  \\\n",
       "0             2003       196.0       706.0         0.0  ...           False   \n",
       "1             1976         0.0       978.0         0.0  ...           False   \n",
       "2             2002       162.0       486.0         0.0  ...           False   \n",
       "3             1970         0.0       216.0         0.0  ...           False   \n",
       "4             2000       350.0       655.0         0.0  ...           False   \n",
       "...            ...         ...         ...         ...  ...             ...   \n",
       "1454          1970         0.0         0.0         0.0  ...           False   \n",
       "1455          1970         0.0       252.0         0.0  ...           False   \n",
       "1456          1996         0.0      1224.0         0.0  ...           False   \n",
       "1457          1992         0.0       337.0         0.0  ...           False   \n",
       "1458          1994        94.0       758.0         0.0  ...           False   \n",
       "\n",
       "      SaleType_ConLw  SaleType_New  SaleType_Oth  SaleType_WD  \\\n",
       "0              False         False         False         True   \n",
       "1              False         False         False         True   \n",
       "2              False         False         False         True   \n",
       "3              False         False         False         True   \n",
       "4              False         False         False         True   \n",
       "...              ...           ...           ...          ...   \n",
       "1454           False         False         False         True   \n",
       "1455           False         False         False         True   \n",
       "1456           False         False         False         True   \n",
       "1457           False         False         False         True   \n",
       "1458           False         False         False         True   \n",
       "\n",
       "      SaleCondition_AdjLand  SaleCondition_Alloca  SaleCondition_Family  \\\n",
       "0                     False                 False                 False   \n",
       "1                     False                 False                 False   \n",
       "2                     False                 False                 False   \n",
       "3                     False                 False                 False   \n",
       "4                     False                 False                 False   \n",
       "...                     ...                   ...                   ...   \n",
       "1454                  False                 False                 False   \n",
       "1455                  False                 False                 False   \n",
       "1456                  False                 False                 False   \n",
       "1457                  False                 False                 False   \n",
       "1458                  False                 False                 False   \n",
       "\n",
       "      SaleCondition_Normal  SaleCondition_Partial  \n",
       "0                     True                  False  \n",
       "1                     True                  False  \n",
       "2                     True                  False  \n",
       "3                    False                  False  \n",
       "4                     True                  False  \n",
       "...                    ...                    ...  \n",
       "1454                  True                  False  \n",
       "1455                 False                  False  \n",
       "1456                 False                  False  \n",
       "1457                  True                  False  \n",
       "1458                  True                  False  \n",
       "\n",
       "[2919 rows x 244 columns]"
      ]
     },
     "execution_count": 5,
     "metadata": {},
     "output_type": "execute_result"
    }
   ],
   "source": [
    "full_encoded=pd.get_dummies(full,drop_first=True)\n",
    "\n",
    "\"\"\"get dummies encodes the categroical columns automatically\n",
    "converts these categories into numeric columns (0/1) \n",
    "so models can use them.\n",
    "\"\"\"\n",
    "full_encoded"
   ]
  },
  {
   "cell_type": "markdown",
   "id": "bb340f41",
   "metadata": {
    "papermill": {
     "duration": 0.004221,
     "end_time": "2025-09-13T21:35:36.716572",
     "exception": false,
     "start_time": "2025-09-13T21:35:36.712351",
     "status": "completed"
    },
    "tags": []
   },
   "source": [
    "<div style=\"font-size:26px;border-radus:10px;border-color:white;\"><p style=\"padding:10px;\">To avoid multicollinearity in linear models, we drop the first category.  </p>\n",
    "<ul>\n",
    "<li> This way, the model can infer the missing category from the others.</li>\n",
    "<li> Models Like LinearRegression(), Lasso can handle the dataset properly</li>\n",
    "</ul>\n",
    "</div>"
   ]
  },
  {
   "cell_type": "code",
   "execution_count": 6,
   "id": "d9d228e4",
   "metadata": {
    "execution": {
     "iopub.execute_input": "2025-09-13T21:35:36.726170Z",
     "iopub.status.busy": "2025-09-13T21:35:36.725366Z",
     "iopub.status.idle": "2025-09-13T21:35:36.729235Z",
     "shell.execute_reply": "2025-09-13T21:35:36.728736Z"
    },
    "papermill": {
     "duration": 0.009468,
     "end_time": "2025-09-13T21:35:36.730267",
     "exception": false,
     "start_time": "2025-09-13T21:35:36.720799",
     "status": "completed"
    },
    "tags": []
   },
   "outputs": [],
   "source": [
    "#Sepearate Train and Test Datasets\n",
    "train_dataset=full_encoded.iloc[:len(train),:]\n",
    "test_dataset=full_encoded.iloc[len(train):,:]"
   ]
  },
  {
   "cell_type": "code",
   "execution_count": 7,
   "id": "ddf567fd",
   "metadata": {
    "execution": {
     "iopub.execute_input": "2025-09-13T21:35:36.739077Z",
     "iopub.status.busy": "2025-09-13T21:35:36.738867Z",
     "iopub.status.idle": "2025-09-13T21:35:36.744401Z",
     "shell.execute_reply": "2025-09-13T21:35:36.743664Z"
    },
    "papermill": {
     "duration": 0.011154,
     "end_time": "2025-09-13T21:35:36.745453",
     "exception": false,
     "start_time": "2025-09-13T21:35:36.734299",
     "status": "completed"
    },
    "tags": []
   },
   "outputs": [],
   "source": [
    "#Full Null values with zero since rest are encoded\n",
    "train_dataset=train_dataset.fillna(0)\n",
    "test_dataset=test_dataset.fillna(0)"
   ]
  },
  {
   "cell_type": "markdown",
   "id": "cfa465e4",
   "metadata": {
    "papermill": {
     "duration": 0.003777,
     "end_time": "2025-09-13T21:35:36.753380",
     "exception": false,
     "start_time": "2025-09-13T21:35:36.749603",
     "status": "completed"
    },
    "tags": []
   },
   "source": [
    "# <div style=\"background-color:white;padding:20px;box-shadow:10px 10px  gray;color:black;font-size:40px;text-align:center;border-radius:20px\">2- Models</div>"
   ]
  },
  {
   "cell_type": "markdown",
   "id": "04dd265f",
   "metadata": {
    "papermill": {
     "duration": 0.003782,
     "end_time": "2025-09-13T21:35:36.761004",
     "exception": false,
     "start_time": "2025-09-13T21:35:36.757222",
     "status": "completed"
    },
    "tags": []
   },
   "source": [
    "<div style=\"font-size:26px;border-radus:10px;border-color:white;\"><h4>Now we will try Different models and see which will get us higher accuracy and peformance, we will try the following models</h4>\n",
    "<ol>\n",
    "<li>LinearRegression()</li>\n",
    "<li>Polynomial</li>\n",
    "<li>Lasso</li>\n",
    "<li>Ridge</li>\n",
    "</ol>\n",
    "</div>"
   ]
  },
  {
   "cell_type": "code",
   "execution_count": 8,
   "id": "c8ec1dea",
   "metadata": {
    "execution": {
     "iopub.execute_input": "2025-09-13T21:35:36.769904Z",
     "iopub.status.busy": "2025-09-13T21:35:36.769619Z",
     "iopub.status.idle": "2025-09-13T21:35:36.773206Z",
     "shell.execute_reply": "2025-09-13T21:35:36.772607Z"
    },
    "papermill": {
     "duration": 0.009219,
     "end_time": "2025-09-13T21:35:36.774284",
     "exception": false,
     "start_time": "2025-09-13T21:35:36.765065",
     "status": "completed"
    },
    "tags": []
   },
   "outputs": [],
   "source": [
    "#imports\n",
    "from sklearn.linear_model import LinearRegression, Lasso\n",
    "from sklearn.preprocessing import PolynomialFeatures\n",
    "from sklearn.metrics import mean_squared_error, r2_score"
   ]
  },
  {
   "cell_type": "markdown",
   "id": "2e3a63bd",
   "metadata": {
    "papermill": {
     "duration": 0.004,
     "end_time": "2025-09-13T21:35:36.782336",
     "exception": false,
     "start_time": "2025-09-13T21:35:36.778336",
     "status": "completed"
    },
    "tags": []
   },
   "source": [
    "## 1- Linear Regression"
   ]
  },
  {
   "cell_type": "code",
   "execution_count": 9,
   "id": "eae19cdc",
   "metadata": {
    "execution": {
     "iopub.execute_input": "2025-09-13T21:35:36.791092Z",
     "iopub.status.busy": "2025-09-13T21:35:36.790857Z",
     "iopub.status.idle": "2025-09-13T21:35:36.903484Z",
     "shell.execute_reply": "2025-09-13T21:35:36.902710Z"
    },
    "papermill": {
     "duration": 0.124809,
     "end_time": "2025-09-13T21:35:36.911026",
     "exception": false,
     "start_time": "2025-09-13T21:35:36.786217",
     "status": "completed"
    },
    "tags": []
   },
   "outputs": [
    {
     "name": "stdout",
     "output_type": "stream",
     "text": [
      "Mean Squared Error (MSE): 0.31806\n",
      "Root Mean Squared Error (RMSE): 0.56396\n"
     ]
    }
   ],
   "source": [
    "#linear regression model\n",
    "model=LinearRegression()\n",
    "model.fit(train_dataset,y_train)\n",
    "prediction=model.predict(test_dataset)\n",
    "pred_exp=np.expm1(prediction)\n",
    "\n",
    "# Compute MSE\n",
    "mse = mean_squared_error(y_train[0:1459], prediction)\n",
    "rmse = np.sqrt(mse)\n",
    "\n",
    "print(f\"Mean Squared Error (MSE): {mse:.5f}\")\n",
    "print(f\"Root Mean Squared Error (RMSE): {rmse:.5f}\")"
   ]
  },
  {
   "cell_type": "markdown",
   "id": "885aaf79",
   "metadata": {
    "papermill": {
     "duration": 0.006909,
     "end_time": "2025-09-13T21:35:36.926711",
     "exception": false,
     "start_time": "2025-09-13T21:35:36.919802",
     "status": "completed"
    },
    "tags": []
   },
   "source": [
    "## 2- Lasso Regression"
   ]
  },
  {
   "cell_type": "code",
   "execution_count": 10,
   "id": "725c6580",
   "metadata": {
    "execution": {
     "iopub.execute_input": "2025-09-13T21:35:36.942028Z",
     "iopub.status.busy": "2025-09-13T21:35:36.941700Z",
     "iopub.status.idle": "2025-09-13T21:35:37.092568Z",
     "shell.execute_reply": "2025-09-13T21:35:37.091877Z"
    },
    "papermill": {
     "duration": 0.160188,
     "end_time": "2025-09-13T21:35:37.093890",
     "exception": false,
     "start_time": "2025-09-13T21:35:36.933702",
     "status": "completed"
    },
    "tags": []
   },
   "outputs": [
    {
     "name": "stdout",
     "output_type": "stream",
     "text": [
      "Mean Squared Error: 0.28\n",
      "R-squared (R2) Score: -0.74\n",
      "Note: The coefficients for irrelevant features will be pushed towards zero.\n",
      "\n"
     ]
    }
   ],
   "source": [
    "# Lasso adds L1 regularization, which can shrink coefficients to zero,\n",
    "# effectively performing feature selection.\n",
    "# The 'alpha' parameter controls the strength of the regularization.\n",
    "\n",
    "lasso_model = Lasso(alpha=0.1)\n",
    "lasso_model.fit(train_dataset,y_train)\n",
    "y_pred_lasso = lasso_model.predict(test_dataset)\n",
    "mse_lasso = mean_squared_error(y_train[:1459], y_pred_lasso)\n",
    "r2_lasso = r2_score(y_train[:1459], y_pred_lasso)\n",
    "print(f\"Mean Squared Error: {mse_lasso:.2f}\")\n",
    "print(f\"R-squared (R2) Score: {r2_lasso:.2f}\")\n",
    "print(\"Note: The coefficients for irrelevant features will be pushed towards zero.\\n\")\n"
   ]
  },
  {
   "cell_type": "markdown",
   "id": "384761fb",
   "metadata": {
    "papermill": {
     "duration": 0.004244,
     "end_time": "2025-09-13T21:35:37.102671",
     "exception": false,
     "start_time": "2025-09-13T21:35:37.098427",
     "status": "completed"
    },
    "tags": []
   },
   "source": [
    "## 3- Polynomial Regression"
   ]
  },
  {
   "cell_type": "code",
   "execution_count": 11,
   "id": "7cc270d6",
   "metadata": {
    "execution": {
     "iopub.execute_input": "2025-09-13T21:35:37.111969Z",
     "iopub.status.busy": "2025-09-13T21:35:37.111674Z",
     "iopub.status.idle": "2025-09-13T21:35:46.298887Z",
     "shell.execute_reply": "2025-09-13T21:35:46.298013Z"
    },
    "papermill": {
     "duration": 9.193612,
     "end_time": "2025-09-13T21:35:46.300399",
     "exception": false,
     "start_time": "2025-09-13T21:35:37.106787",
     "status": "completed"
    },
    "tags": []
   },
   "outputs": [
    {
     "name": "stdout",
     "output_type": "stream",
     "text": [
      "Mean Squared Error: 8.09\n",
      "R-squared (R2) Score: -49.71\n"
     ]
    }
   ],
   "source": [
    "# This model captures non-linear relationships by creating new polynomial features.\n",
    "# It is essentially a Linear Regression model trained on a transformed dataset.\n",
    "\n",
    "# Create polynomial features (e.g., x^2, x*y)\n",
    "# The degree parameter controls the complexity of the model.\n",
    "poly = PolynomialFeatures(degree=2, include_bias=False)\n",
    "X_train_poly = poly.fit_transform(train_dataset)\n",
    "X_test_poly = poly.transform(test_dataset)\n",
    "\n",
    "# Train a Linear Regression model on the new polynomial features\n",
    "poly_model = LinearRegression()\n",
    "poly_model.fit(X_train_poly, y_train)\n",
    "y_pred_poly = poly_model.predict(X_test_poly)\n",
    "\n",
    "mse_poly = mean_squared_error(y_train[:1459], y_pred_poly)\n",
    "r2_poly = r2_score(y_train[:1459], y_pred_poly)\n",
    "print(f\"Mean Squared Error: {mse_poly:.2f}\")\n",
    "print(f\"R-squared (R2) Score: {r2_poly:.2f}\")"
   ]
  },
  {
   "cell_type": "markdown",
   "id": "5c82e0a0",
   "metadata": {
    "papermill": {
     "duration": 0.005213,
     "end_time": "2025-09-13T21:35:46.311924",
     "exception": false,
     "start_time": "2025-09-13T21:35:46.306711",
     "status": "completed"
    },
    "tags": []
   },
   "source": [
    "## 4- Ridge"
   ]
  },
  {
   "cell_type": "code",
   "execution_count": 12,
   "id": "7cf7e316",
   "metadata": {
    "execution": {
     "iopub.execute_input": "2025-09-13T21:35:46.321355Z",
     "iopub.status.busy": "2025-09-13T21:35:46.321064Z",
     "iopub.status.idle": "2025-09-13T21:35:46.354271Z",
     "shell.execute_reply": "2025-09-13T21:35:46.352867Z"
    },
    "papermill": {
     "duration": 0.03968,
     "end_time": "2025-09-13T21:35:46.355748",
     "exception": false,
     "start_time": "2025-09-13T21:35:46.316068",
     "status": "completed"
    },
    "tags": []
   },
   "outputs": [
    {
     "name": "stdout",
     "output_type": "stream",
     "text": [
      "Ridge Regression MSE (log-space): 0.30307\n",
      "Ridge Regression RMSE (log-space): 0.55052\n"
     ]
    }
   ],
   "source": [
    "from sklearn.linear_model import Ridge\n",
    "\n",
    "ridge = Ridge(alpha=10)  # You can tune alpha later\n",
    "ridge.fit(train_dataset,y_train)\n",
    "\n",
    "# Predict on validation set\n",
    "y_pred_ridge = ridge.predict(test_dataset)\n",
    "\n",
    "# Compute MSE and RMSE\n",
    "mse = mean_squared_error(y_train[:1459], y_pred_ridge)\n",
    "rmse = np.sqrt(mse)\n",
    "\n",
    "print(f\"Ridge Regression MSE (log-space): {mse:.5f}\")\n",
    "print(f\"Ridge Regression RMSE (log-space): {rmse:.5f}\")"
   ]
  },
  {
   "cell_type": "markdown",
   "id": "82add7df",
   "metadata": {
    "papermill": {
     "duration": 0.005266,
     "end_time": "2025-09-13T21:35:46.366753",
     "exception": false,
     "start_time": "2025-09-13T21:35:46.361487",
     "status": "completed"
    },
    "tags": []
   },
   "source": [
    "<div style=\"font-size:26px;border-radus:10px;border-color:white;\">Based on the modelling we can conclude that:\n",
    "<ul>\n",
    "    \n",
    "\n",
    "<li>Ridge and linear are similar in MSE and RMSE</li>\n",
    "<li>Lasso was lower in MSE but higher in RMSE </li>\n",
    "<li>Polynomial Can't work on get_dummies dataset </li>\n",
    "</ul>\n",
    "</div>"
   ]
  },
  {
   "cell_type": "markdown",
   "id": "c48073b8",
   "metadata": {
    "papermill": {
     "duration": 0.004447,
     "end_time": "2025-09-13T21:35:46.375373",
     "exception": false,
     "start_time": "2025-09-13T21:35:46.370926",
     "status": "completed"
    },
    "tags": []
   },
   "source": [
    "# Submission:"
   ]
  },
  {
   "cell_type": "code",
   "execution_count": 13,
   "id": "5f408e85",
   "metadata": {
    "execution": {
     "iopub.execute_input": "2025-09-13T21:35:46.384663Z",
     "iopub.status.busy": "2025-09-13T21:35:46.384396Z",
     "iopub.status.idle": "2025-09-13T21:35:46.390160Z",
     "shell.execute_reply": "2025-09-13T21:35:46.389738Z"
    },
    "papermill": {
     "duration": 0.011736,
     "end_time": "2025-09-13T21:35:46.391266",
     "exception": false,
     "start_time": "2025-09-13T21:35:46.379530",
     "status": "completed"
    },
    "tags": []
   },
   "outputs": [
    {
     "data": {
      "text/plain": [
       "0       1461\n",
       "1       1462\n",
       "2       1463\n",
       "3       1464\n",
       "4       1465\n",
       "        ... \n",
       "1454    2915\n",
       "1455    2916\n",
       "1456    2917\n",
       "1457    2918\n",
       "1458    2919\n",
       "Name: Id, Length: 1459, dtype: int64"
      ]
     },
     "execution_count": 13,
     "metadata": {},
     "output_type": "execute_result"
    }
   ],
   "source": [
    "test_id=test['Id']\n",
    "test_id"
   ]
  },
  {
   "cell_type": "code",
   "execution_count": 14,
   "id": "87e4043c",
   "metadata": {
    "execution": {
     "iopub.execute_input": "2025-09-13T21:35:46.401014Z",
     "iopub.status.busy": "2025-09-13T21:35:46.400757Z",
     "iopub.status.idle": "2025-09-13T21:35:46.404252Z",
     "shell.execute_reply": "2025-09-13T21:35:46.403743Z"
    },
    "papermill": {
     "duration": 0.0097,
     "end_time": "2025-09-13T21:35:46.405300",
     "exception": false,
     "start_time": "2025-09-13T21:35:46.395600",
     "status": "completed"
    },
    "tags": []
   },
   "outputs": [],
   "source": [
    "y_pred_r=np.expm1(y_pred_ridge)"
   ]
  },
  {
   "cell_type": "code",
   "execution_count": 15,
   "id": "5c7c5cef",
   "metadata": {
    "execution": {
     "iopub.execute_input": "2025-09-13T21:35:46.415123Z",
     "iopub.status.busy": "2025-09-13T21:35:46.414875Z",
     "iopub.status.idle": "2025-09-13T21:35:46.426300Z",
     "shell.execute_reply": "2025-09-13T21:35:46.425749Z"
    },
    "papermill": {
     "duration": 0.01761,
     "end_time": "2025-09-13T21:35:46.427459",
     "exception": false,
     "start_time": "2025-09-13T21:35:46.409849",
     "status": "completed"
    },
    "tags": []
   },
   "outputs": [
    {
     "name": "stdout",
     "output_type": "stream",
     "text": [
      "Submission file created!\n"
     ]
    }
   ],
   "source": [
    "sub_data=pd.DataFrame({\n",
    "    'Id':test_id,\n",
    "    'SalePrice':y_pred_r\n",
    "})\n",
    "sub_data.to_csv(\"lassoprediction.csv\", index=False)\n",
    "print(\"Submission file created!\")"
   ]
  },
  {
   "cell_type": "markdown",
   "id": "3c656cea",
   "metadata": {
    "papermill": {
     "duration": 0.004546,
     "end_time": "2025-09-13T21:35:46.436747",
     "exception": false,
     "start_time": "2025-09-13T21:35:46.432201",
     "status": "completed"
    },
    "tags": []
   },
   "source": [
    "<div style=\"font-size:20px;\">Ridge got me the best submission score of 0.13</div> "
   ]
  }
 ],
 "metadata": {
  "kaggle": {
   "accelerator": "none",
   "dataSources": [
    {
     "databundleVersionId": 868283,
     "sourceId": 5407,
     "sourceType": "competition"
    }
   ],
   "dockerImageVersionId": 31089,
   "isGpuEnabled": false,
   "isInternetEnabled": true,
   "language": "python",
   "sourceType": "notebook"
  },
  "kernelspec": {
   "display_name": "Python 3",
   "language": "python",
   "name": "python3"
  },
  "language_info": {
   "codemirror_mode": {
    "name": "ipython",
    "version": 3
   },
   "file_extension": ".py",
   "mimetype": "text/x-python",
   "name": "python",
   "nbconvert_exporter": "python",
   "pygments_lexer": "ipython3",
   "version": "3.11.13"
  },
  "papermill": {
   "default_parameters": {},
   "duration": 17.29214,
   "end_time": "2025-09-13T21:35:47.059591",
   "environment_variables": {},
   "exception": null,
   "input_path": "__notebook__.ipynb",
   "output_path": "__notebook__.ipynb",
   "parameters": {},
   "start_time": "2025-09-13T21:35:29.767451",
   "version": "2.6.0"
  }
 },
 "nbformat": 4,
 "nbformat_minor": 5
}
