{
 "cells": [
  {
   "cell_type": "markdown",
   "id": "f5f41415",
   "metadata": {
    "papermill": {
     "duration": 0.004479,
     "end_time": "2025-09-15T14:58:08.812483",
     "exception": false,
     "start_time": "2025-09-15T14:58:08.808004",
     "status": "completed"
    },
    "tags": []
   },
   "source": [
    "<div style=\"background-color:white;box-shadow:10px 10px   gray;color:black;font-size:70px;text-align:center;border-radius:20px\">House Price Prediction</div>"
   ]
  },
  {
   "cell_type": "markdown",
   "id": "24c20050",
   "metadata": {
    "papermill": {
     "duration": 0.003252,
     "end_time": "2025-09-15T14:58:08.819412",
     "exception": false,
     "start_time": "2025-09-15T14:58:08.816160",
     "status": "completed"
    },
    "tags": []
   },
   "source": [
    "<div style=\"text-align:center;font-size:26px;border-radus:10px;border-color:white;\">Welcome to my attempt at the house price prediction price comptetion, Here I will try to get the lowest RMSE Using Simple Linear Regression model (along with some other models like Polynomial , Lasso , Ridge"
   ]
  },
  {
   "cell_type": "markdown",
   "id": "e051df6b",
   "metadata": {
    "execution": {
     "iopub.execute_input": "2025-09-13T20:21:00.216482Z",
     "iopub.status.busy": "2025-09-13T20:21:00.216085Z",
     "iopub.status.idle": "2025-09-13T20:21:00.222800Z",
     "shell.execute_reply": "2025-09-13T20:21:00.221619Z",
     "shell.execute_reply.started": "2025-09-13T20:21:00.216456Z"
    },
    "papermill": {
     "duration": 0.003211,
     "end_time": "2025-09-15T14:58:08.825959",
     "exception": false,
     "start_time": "2025-09-15T14:58:08.822748",
     "status": "completed"
    },
    "tags": []
   },
   "source": [
    "# <div style=\"background-color:white;padding:20px;box-shadow:10px 10px  gray;color:black;font-size:40px;text-align:center;border-radius:20px\">1- Data Preproccessing</div>"
   ]
  },
  {
   "cell_type": "code",
   "execution_count": 1,
   "id": "86e4f4a4",
   "metadata": {
    "_execution_state": "idle",
    "_uuid": "051d70d956493feee0c6d64651c6a088724dca2a",
    "execution": {
     "iopub.execute_input": "2025-09-15T14:58:08.833751Z",
     "iopub.status.busy": "2025-09-15T14:58:08.833487Z",
     "iopub.status.idle": "2025-09-15T14:58:12.048891Z",
     "shell.execute_reply": "2025-09-15T14:58:12.048112Z"
    },
    "papermill": {
     "duration": 3.221359,
     "end_time": "2025-09-15T14:58:12.050570",
     "exception": false,
     "start_time": "2025-09-15T14:58:08.829211",
     "status": "completed"
    },
    "tags": []
   },
   "outputs": [],
   "source": [
    "import pandas as pd\n",
    "import numpy as np\n",
    "from sklearn.metrics import mean_squared_error\n",
    "from sklearn.linear_model import LinearRegression, Ridge, Lasso\n",
    "from sklearn.model_selection import cross_val_score\n",
    "np.random.seed(42)"
   ]
  },
  {
   "cell_type": "code",
   "execution_count": 2,
   "id": "5bfe8ebb",
   "metadata": {
    "execution": {
     "iopub.execute_input": "2025-09-15T14:58:12.059558Z",
     "iopub.status.busy": "2025-09-15T14:58:12.059149Z",
     "iopub.status.idle": "2025-09-15T14:58:12.126407Z",
     "shell.execute_reply": "2025-09-15T14:58:12.125718Z"
    },
    "papermill": {
     "duration": 0.073349,
     "end_time": "2025-09-15T14:58:12.127992",
     "exception": false,
     "start_time": "2025-09-15T14:58:12.054643",
     "status": "completed"
    },
    "tags": []
   },
   "outputs": [],
   "source": [
    "# Import test and train csv's\n",
    "train = pd.read_csv(\"/kaggle/input/house-prices-advanced-regression-techniques/train.csv\")\n",
    "test  = pd.read_csv(\"/kaggle/input/house-prices-advanced-regression-techniques/test.csv\")"
   ]
  },
  {
   "cell_type": "code",
   "execution_count": 3,
   "id": "2c0bd554",
   "metadata": {
    "execution": {
     "iopub.execute_input": "2025-09-15T14:58:12.136950Z",
     "iopub.status.busy": "2025-09-15T14:58:12.136652Z",
     "iopub.status.idle": "2025-09-15T14:58:12.167439Z",
     "shell.execute_reply": "2025-09-15T14:58:12.166591Z"
    },
    "papermill": {
     "duration": 0.036609,
     "end_time": "2025-09-15T14:58:12.168737",
     "exception": false,
     "start_time": "2025-09-15T14:58:12.132128",
     "status": "completed"
    },
    "tags": []
   },
   "outputs": [
    {
     "data": {
      "text/html": [
       "<div>\n",
       "<style scoped>\n",
       "    .dataframe tbody tr th:only-of-type {\n",
       "        vertical-align: middle;\n",
       "    }\n",
       "\n",
       "    .dataframe tbody tr th {\n",
       "        vertical-align: top;\n",
       "    }\n",
       "\n",
       "    .dataframe thead th {\n",
       "        text-align: right;\n",
       "    }\n",
       "</style>\n",
       "<table border=\"1\" class=\"dataframe\">\n",
       "  <thead>\n",
       "    <tr style=\"text-align: right;\">\n",
       "      <th></th>\n",
       "      <th>Id</th>\n",
       "      <th>MSSubClass</th>\n",
       "      <th>MSZoning</th>\n",
       "      <th>LotFrontage</th>\n",
       "      <th>LotArea</th>\n",
       "      <th>Street</th>\n",
       "      <th>Alley</th>\n",
       "      <th>LotShape</th>\n",
       "      <th>LandContour</th>\n",
       "      <th>Utilities</th>\n",
       "      <th>...</th>\n",
       "      <th>PoolArea</th>\n",
       "      <th>PoolQC</th>\n",
       "      <th>Fence</th>\n",
       "      <th>MiscFeature</th>\n",
       "      <th>MiscVal</th>\n",
       "      <th>MoSold</th>\n",
       "      <th>YrSold</th>\n",
       "      <th>SaleType</th>\n",
       "      <th>SaleCondition</th>\n",
       "      <th>SalePrice</th>\n",
       "    </tr>\n",
       "  </thead>\n",
       "  <tbody>\n",
       "    <tr>\n",
       "      <th>0</th>\n",
       "      <td>1</td>\n",
       "      <td>60</td>\n",
       "      <td>RL</td>\n",
       "      <td>65.0</td>\n",
       "      <td>8450</td>\n",
       "      <td>Pave</td>\n",
       "      <td>NaN</td>\n",
       "      <td>Reg</td>\n",
       "      <td>Lvl</td>\n",
       "      <td>AllPub</td>\n",
       "      <td>...</td>\n",
       "      <td>0</td>\n",
       "      <td>NaN</td>\n",
       "      <td>NaN</td>\n",
       "      <td>NaN</td>\n",
       "      <td>0</td>\n",
       "      <td>2</td>\n",
       "      <td>2008</td>\n",
       "      <td>WD</td>\n",
       "      <td>Normal</td>\n",
       "      <td>208500</td>\n",
       "    </tr>\n",
       "    <tr>\n",
       "      <th>1</th>\n",
       "      <td>2</td>\n",
       "      <td>20</td>\n",
       "      <td>RL</td>\n",
       "      <td>80.0</td>\n",
       "      <td>9600</td>\n",
       "      <td>Pave</td>\n",
       "      <td>NaN</td>\n",
       "      <td>Reg</td>\n",
       "      <td>Lvl</td>\n",
       "      <td>AllPub</td>\n",
       "      <td>...</td>\n",
       "      <td>0</td>\n",
       "      <td>NaN</td>\n",
       "      <td>NaN</td>\n",
       "      <td>NaN</td>\n",
       "      <td>0</td>\n",
       "      <td>5</td>\n",
       "      <td>2007</td>\n",
       "      <td>WD</td>\n",
       "      <td>Normal</td>\n",
       "      <td>181500</td>\n",
       "    </tr>\n",
       "    <tr>\n",
       "      <th>2</th>\n",
       "      <td>3</td>\n",
       "      <td>60</td>\n",
       "      <td>RL</td>\n",
       "      <td>68.0</td>\n",
       "      <td>11250</td>\n",
       "      <td>Pave</td>\n",
       "      <td>NaN</td>\n",
       "      <td>IR1</td>\n",
       "      <td>Lvl</td>\n",
       "      <td>AllPub</td>\n",
       "      <td>...</td>\n",
       "      <td>0</td>\n",
       "      <td>NaN</td>\n",
       "      <td>NaN</td>\n",
       "      <td>NaN</td>\n",
       "      <td>0</td>\n",
       "      <td>9</td>\n",
       "      <td>2008</td>\n",
       "      <td>WD</td>\n",
       "      <td>Normal</td>\n",
       "      <td>223500</td>\n",
       "    </tr>\n",
       "    <tr>\n",
       "      <th>3</th>\n",
       "      <td>4</td>\n",
       "      <td>70</td>\n",
       "      <td>RL</td>\n",
       "      <td>60.0</td>\n",
       "      <td>9550</td>\n",
       "      <td>Pave</td>\n",
       "      <td>NaN</td>\n",
       "      <td>IR1</td>\n",
       "      <td>Lvl</td>\n",
       "      <td>AllPub</td>\n",
       "      <td>...</td>\n",
       "      <td>0</td>\n",
       "      <td>NaN</td>\n",
       "      <td>NaN</td>\n",
       "      <td>NaN</td>\n",
       "      <td>0</td>\n",
       "      <td>2</td>\n",
       "      <td>2006</td>\n",
       "      <td>WD</td>\n",
       "      <td>Abnorml</td>\n",
       "      <td>140000</td>\n",
       "    </tr>\n",
       "    <tr>\n",
       "      <th>4</th>\n",
       "      <td>5</td>\n",
       "      <td>60</td>\n",
       "      <td>RL</td>\n",
       "      <td>84.0</td>\n",
       "      <td>14260</td>\n",
       "      <td>Pave</td>\n",
       "      <td>NaN</td>\n",
       "      <td>IR1</td>\n",
       "      <td>Lvl</td>\n",
       "      <td>AllPub</td>\n",
       "      <td>...</td>\n",
       "      <td>0</td>\n",
       "      <td>NaN</td>\n",
       "      <td>NaN</td>\n",
       "      <td>NaN</td>\n",
       "      <td>0</td>\n",
       "      <td>12</td>\n",
       "      <td>2008</td>\n",
       "      <td>WD</td>\n",
       "      <td>Normal</td>\n",
       "      <td>250000</td>\n",
       "    </tr>\n",
       "  </tbody>\n",
       "</table>\n",
       "<p>5 rows × 81 columns</p>\n",
       "</div>"
      ],
      "text/plain": [
       "   Id  MSSubClass MSZoning  LotFrontage  LotArea Street Alley LotShape  \\\n",
       "0   1          60       RL         65.0     8450   Pave   NaN      Reg   \n",
       "1   2          20       RL         80.0     9600   Pave   NaN      Reg   \n",
       "2   3          60       RL         68.0    11250   Pave   NaN      IR1   \n",
       "3   4          70       RL         60.0     9550   Pave   NaN      IR1   \n",
       "4   5          60       RL         84.0    14260   Pave   NaN      IR1   \n",
       "\n",
       "  LandContour Utilities  ... PoolArea PoolQC Fence MiscFeature MiscVal MoSold  \\\n",
       "0         Lvl    AllPub  ...        0    NaN   NaN         NaN       0      2   \n",
       "1         Lvl    AllPub  ...        0    NaN   NaN         NaN       0      5   \n",
       "2         Lvl    AllPub  ...        0    NaN   NaN         NaN       0      9   \n",
       "3         Lvl    AllPub  ...        0    NaN   NaN         NaN       0      2   \n",
       "4         Lvl    AllPub  ...        0    NaN   NaN         NaN       0     12   \n",
       "\n",
       "  YrSold  SaleType  SaleCondition  SalePrice  \n",
       "0   2008        WD         Normal     208500  \n",
       "1   2007        WD         Normal     181500  \n",
       "2   2008        WD         Normal     223500  \n",
       "3   2006        WD        Abnorml     140000  \n",
       "4   2008        WD         Normal     250000  \n",
       "\n",
       "[5 rows x 81 columns]"
      ]
     },
     "execution_count": 3,
     "metadata": {},
     "output_type": "execute_result"
    }
   ],
   "source": [
    "#get train head to look at dataset\n",
    "train.head()"
   ]
  },
  {
   "cell_type": "markdown",
   "id": "b7fdc2bf",
   "metadata": {
    "papermill": {
     "duration": 0.004378,
     "end_time": "2025-09-15T14:58:12.177463",
     "exception": false,
     "start_time": "2025-09-15T14:58:12.173085",
     "status": "completed"
    },
    "tags": []
   },
   "source": [
    "<div style=\"font-size:26px;border-radus:10px;border-color:white;\">This Dataset has a lot of categorical columns and few numerical columns! <br>\n",
    "Now let's seperate target SalePrice from the rest of the dataset</div>"
   ]
  },
  {
   "cell_type": "code",
   "execution_count": 4,
   "id": "e8be66a5",
   "metadata": {
    "execution": {
     "iopub.execute_input": "2025-09-15T14:58:12.186300Z",
     "iopub.status.busy": "2025-09-15T14:58:12.186034Z",
     "iopub.status.idle": "2025-09-15T14:58:12.206653Z",
     "shell.execute_reply": "2025-09-15T14:58:12.205778Z"
    },
    "papermill": {
     "duration": 0.026871,
     "end_time": "2025-09-15T14:58:12.208163",
     "exception": false,
     "start_time": "2025-09-15T14:58:12.181292",
     "status": "completed"
    },
    "tags": []
   },
   "outputs": [],
   "source": [
    "X_train=train.drop(columns=['Id','SalePrice'])\n",
    "y_train=np.log1p(train['SalePrice']) \n",
    "#IMPORTANT: don't forget to log sale price so the RMSE is not too large\n",
    "\n",
    "test_features=test.drop(columns=['Id'])\n",
    "#test dataset without ID to have same columns as train, and will not matter in our model\n",
    "\n",
    "full=pd.concat([X_train,test_features], axis=0)\n",
    "#a large dataset combining both training and test datasets to keep preproccessing consistent"
   ]
  },
  {
   "cell_type": "code",
   "execution_count": 5,
   "id": "880c9df4",
   "metadata": {
    "execution": {
     "iopub.execute_input": "2025-09-15T14:58:12.218144Z",
     "iopub.status.busy": "2025-09-15T14:58:12.217833Z",
     "iopub.status.idle": "2025-09-15T14:58:12.272010Z",
     "shell.execute_reply": "2025-09-15T14:58:12.271150Z"
    },
    "papermill": {
     "duration": 0.061176,
     "end_time": "2025-09-15T14:58:12.273473",
     "exception": false,
     "start_time": "2025-09-15T14:58:12.212297",
     "status": "completed"
    },
    "tags": []
   },
   "outputs": [
    {
     "data": {
      "text/html": [
       "<div>\n",
       "<style scoped>\n",
       "    .dataframe tbody tr th:only-of-type {\n",
       "        vertical-align: middle;\n",
       "    }\n",
       "\n",
       "    .dataframe tbody tr th {\n",
       "        vertical-align: top;\n",
       "    }\n",
       "\n",
       "    .dataframe thead th {\n",
       "        text-align: right;\n",
       "    }\n",
       "</style>\n",
       "<table border=\"1\" class=\"dataframe\">\n",
       "  <thead>\n",
       "    <tr style=\"text-align: right;\">\n",
       "      <th></th>\n",
       "      <th>MSSubClass</th>\n",
       "      <th>LotFrontage</th>\n",
       "      <th>LotArea</th>\n",
       "      <th>OverallQual</th>\n",
       "      <th>OverallCond</th>\n",
       "      <th>YearBuilt</th>\n",
       "      <th>YearRemodAdd</th>\n",
       "      <th>MasVnrArea</th>\n",
       "      <th>BsmtFinSF1</th>\n",
       "      <th>BsmtFinSF2</th>\n",
       "      <th>...</th>\n",
       "      <th>SaleType_ConLI</th>\n",
       "      <th>SaleType_ConLw</th>\n",
       "      <th>SaleType_New</th>\n",
       "      <th>SaleType_Oth</th>\n",
       "      <th>SaleType_WD</th>\n",
       "      <th>SaleCondition_AdjLand</th>\n",
       "      <th>SaleCondition_Alloca</th>\n",
       "      <th>SaleCondition_Family</th>\n",
       "      <th>SaleCondition_Normal</th>\n",
       "      <th>SaleCondition_Partial</th>\n",
       "    </tr>\n",
       "  </thead>\n",
       "  <tbody>\n",
       "    <tr>\n",
       "      <th>0</th>\n",
       "      <td>60</td>\n",
       "      <td>65.0</td>\n",
       "      <td>8450</td>\n",
       "      <td>7</td>\n",
       "      <td>5</td>\n",
       "      <td>2003</td>\n",
       "      <td>2003</td>\n",
       "      <td>196.0</td>\n",
       "      <td>706.0</td>\n",
       "      <td>0.0</td>\n",
       "      <td>...</td>\n",
       "      <td>False</td>\n",
       "      <td>False</td>\n",
       "      <td>False</td>\n",
       "      <td>False</td>\n",
       "      <td>True</td>\n",
       "      <td>False</td>\n",
       "      <td>False</td>\n",
       "      <td>False</td>\n",
       "      <td>True</td>\n",
       "      <td>False</td>\n",
       "    </tr>\n",
       "    <tr>\n",
       "      <th>1</th>\n",
       "      <td>20</td>\n",
       "      <td>80.0</td>\n",
       "      <td>9600</td>\n",
       "      <td>6</td>\n",
       "      <td>8</td>\n",
       "      <td>1976</td>\n",
       "      <td>1976</td>\n",
       "      <td>0.0</td>\n",
       "      <td>978.0</td>\n",
       "      <td>0.0</td>\n",
       "      <td>...</td>\n",
       "      <td>False</td>\n",
       "      <td>False</td>\n",
       "      <td>False</td>\n",
       "      <td>False</td>\n",
       "      <td>True</td>\n",
       "      <td>False</td>\n",
       "      <td>False</td>\n",
       "      <td>False</td>\n",
       "      <td>True</td>\n",
       "      <td>False</td>\n",
       "    </tr>\n",
       "    <tr>\n",
       "      <th>2</th>\n",
       "      <td>60</td>\n",
       "      <td>68.0</td>\n",
       "      <td>11250</td>\n",
       "      <td>7</td>\n",
       "      <td>5</td>\n",
       "      <td>2001</td>\n",
       "      <td>2002</td>\n",
       "      <td>162.0</td>\n",
       "      <td>486.0</td>\n",
       "      <td>0.0</td>\n",
       "      <td>...</td>\n",
       "      <td>False</td>\n",
       "      <td>False</td>\n",
       "      <td>False</td>\n",
       "      <td>False</td>\n",
       "      <td>True</td>\n",
       "      <td>False</td>\n",
       "      <td>False</td>\n",
       "      <td>False</td>\n",
       "      <td>True</td>\n",
       "      <td>False</td>\n",
       "    </tr>\n",
       "    <tr>\n",
       "      <th>3</th>\n",
       "      <td>70</td>\n",
       "      <td>60.0</td>\n",
       "      <td>9550</td>\n",
       "      <td>7</td>\n",
       "      <td>5</td>\n",
       "      <td>1915</td>\n",
       "      <td>1970</td>\n",
       "      <td>0.0</td>\n",
       "      <td>216.0</td>\n",
       "      <td>0.0</td>\n",
       "      <td>...</td>\n",
       "      <td>False</td>\n",
       "      <td>False</td>\n",
       "      <td>False</td>\n",
       "      <td>False</td>\n",
       "      <td>True</td>\n",
       "      <td>False</td>\n",
       "      <td>False</td>\n",
       "      <td>False</td>\n",
       "      <td>False</td>\n",
       "      <td>False</td>\n",
       "    </tr>\n",
       "    <tr>\n",
       "      <th>4</th>\n",
       "      <td>60</td>\n",
       "      <td>84.0</td>\n",
       "      <td>14260</td>\n",
       "      <td>8</td>\n",
       "      <td>5</td>\n",
       "      <td>2000</td>\n",
       "      <td>2000</td>\n",
       "      <td>350.0</td>\n",
       "      <td>655.0</td>\n",
       "      <td>0.0</td>\n",
       "      <td>...</td>\n",
       "      <td>False</td>\n",
       "      <td>False</td>\n",
       "      <td>False</td>\n",
       "      <td>False</td>\n",
       "      <td>True</td>\n",
       "      <td>False</td>\n",
       "      <td>False</td>\n",
       "      <td>False</td>\n",
       "      <td>True</td>\n",
       "      <td>False</td>\n",
       "    </tr>\n",
       "    <tr>\n",
       "      <th>...</th>\n",
       "      <td>...</td>\n",
       "      <td>...</td>\n",
       "      <td>...</td>\n",
       "      <td>...</td>\n",
       "      <td>...</td>\n",
       "      <td>...</td>\n",
       "      <td>...</td>\n",
       "      <td>...</td>\n",
       "      <td>...</td>\n",
       "      <td>...</td>\n",
       "      <td>...</td>\n",
       "      <td>...</td>\n",
       "      <td>...</td>\n",
       "      <td>...</td>\n",
       "      <td>...</td>\n",
       "      <td>...</td>\n",
       "      <td>...</td>\n",
       "      <td>...</td>\n",
       "      <td>...</td>\n",
       "      <td>...</td>\n",
       "      <td>...</td>\n",
       "    </tr>\n",
       "    <tr>\n",
       "      <th>1454</th>\n",
       "      <td>160</td>\n",
       "      <td>21.0</td>\n",
       "      <td>1936</td>\n",
       "      <td>4</td>\n",
       "      <td>7</td>\n",
       "      <td>1970</td>\n",
       "      <td>1970</td>\n",
       "      <td>0.0</td>\n",
       "      <td>0.0</td>\n",
       "      <td>0.0</td>\n",
       "      <td>...</td>\n",
       "      <td>False</td>\n",
       "      <td>False</td>\n",
       "      <td>False</td>\n",
       "      <td>False</td>\n",
       "      <td>True</td>\n",
       "      <td>False</td>\n",
       "      <td>False</td>\n",
       "      <td>False</td>\n",
       "      <td>True</td>\n",
       "      <td>False</td>\n",
       "    </tr>\n",
       "    <tr>\n",
       "      <th>1455</th>\n",
       "      <td>160</td>\n",
       "      <td>21.0</td>\n",
       "      <td>1894</td>\n",
       "      <td>4</td>\n",
       "      <td>5</td>\n",
       "      <td>1970</td>\n",
       "      <td>1970</td>\n",
       "      <td>0.0</td>\n",
       "      <td>252.0</td>\n",
       "      <td>0.0</td>\n",
       "      <td>...</td>\n",
       "      <td>False</td>\n",
       "      <td>False</td>\n",
       "      <td>False</td>\n",
       "      <td>False</td>\n",
       "      <td>True</td>\n",
       "      <td>False</td>\n",
       "      <td>False</td>\n",
       "      <td>False</td>\n",
       "      <td>False</td>\n",
       "      <td>False</td>\n",
       "    </tr>\n",
       "    <tr>\n",
       "      <th>1456</th>\n",
       "      <td>20</td>\n",
       "      <td>160.0</td>\n",
       "      <td>20000</td>\n",
       "      <td>5</td>\n",
       "      <td>7</td>\n",
       "      <td>1960</td>\n",
       "      <td>1996</td>\n",
       "      <td>0.0</td>\n",
       "      <td>1224.0</td>\n",
       "      <td>0.0</td>\n",
       "      <td>...</td>\n",
       "      <td>False</td>\n",
       "      <td>False</td>\n",
       "      <td>False</td>\n",
       "      <td>False</td>\n",
       "      <td>True</td>\n",
       "      <td>False</td>\n",
       "      <td>False</td>\n",
       "      <td>False</td>\n",
       "      <td>False</td>\n",
       "      <td>False</td>\n",
       "    </tr>\n",
       "    <tr>\n",
       "      <th>1457</th>\n",
       "      <td>85</td>\n",
       "      <td>62.0</td>\n",
       "      <td>10441</td>\n",
       "      <td>5</td>\n",
       "      <td>5</td>\n",
       "      <td>1992</td>\n",
       "      <td>1992</td>\n",
       "      <td>0.0</td>\n",
       "      <td>337.0</td>\n",
       "      <td>0.0</td>\n",
       "      <td>...</td>\n",
       "      <td>False</td>\n",
       "      <td>False</td>\n",
       "      <td>False</td>\n",
       "      <td>False</td>\n",
       "      <td>True</td>\n",
       "      <td>False</td>\n",
       "      <td>False</td>\n",
       "      <td>False</td>\n",
       "      <td>True</td>\n",
       "      <td>False</td>\n",
       "    </tr>\n",
       "    <tr>\n",
       "      <th>1458</th>\n",
       "      <td>60</td>\n",
       "      <td>74.0</td>\n",
       "      <td>9627</td>\n",
       "      <td>7</td>\n",
       "      <td>5</td>\n",
       "      <td>1993</td>\n",
       "      <td>1994</td>\n",
       "      <td>94.0</td>\n",
       "      <td>758.0</td>\n",
       "      <td>0.0</td>\n",
       "      <td>...</td>\n",
       "      <td>False</td>\n",
       "      <td>False</td>\n",
       "      <td>False</td>\n",
       "      <td>False</td>\n",
       "      <td>True</td>\n",
       "      <td>False</td>\n",
       "      <td>False</td>\n",
       "      <td>False</td>\n",
       "      <td>True</td>\n",
       "      <td>False</td>\n",
       "    </tr>\n",
       "  </tbody>\n",
       "</table>\n",
       "<p>2919 rows × 244 columns</p>\n",
       "</div>"
      ],
      "text/plain": [
       "      MSSubClass  LotFrontage  LotArea  OverallQual  OverallCond  YearBuilt  \\\n",
       "0             60         65.0     8450            7            5       2003   \n",
       "1             20         80.0     9600            6            8       1976   \n",
       "2             60         68.0    11250            7            5       2001   \n",
       "3             70         60.0     9550            7            5       1915   \n",
       "4             60         84.0    14260            8            5       2000   \n",
       "...          ...          ...      ...          ...          ...        ...   \n",
       "1454         160         21.0     1936            4            7       1970   \n",
       "1455         160         21.0     1894            4            5       1970   \n",
       "1456          20        160.0    20000            5            7       1960   \n",
       "1457          85         62.0    10441            5            5       1992   \n",
       "1458          60         74.0     9627            7            5       1993   \n",
       "\n",
       "      YearRemodAdd  MasVnrArea  BsmtFinSF1  BsmtFinSF2  ...  SaleType_ConLI  \\\n",
       "0             2003       196.0       706.0         0.0  ...           False   \n",
       "1             1976         0.0       978.0         0.0  ...           False   \n",
       "2             2002       162.0       486.0         0.0  ...           False   \n",
       "3             1970         0.0       216.0         0.0  ...           False   \n",
       "4             2000       350.0       655.0         0.0  ...           False   \n",
       "...            ...         ...         ...         ...  ...             ...   \n",
       "1454          1970         0.0         0.0         0.0  ...           False   \n",
       "1455          1970         0.0       252.0         0.0  ...           False   \n",
       "1456          1996         0.0      1224.0         0.0  ...           False   \n",
       "1457          1992         0.0       337.0         0.0  ...           False   \n",
       "1458          1994        94.0       758.0         0.0  ...           False   \n",
       "\n",
       "      SaleType_ConLw  SaleType_New  SaleType_Oth  SaleType_WD  \\\n",
       "0              False         False         False         True   \n",
       "1              False         False         False         True   \n",
       "2              False         False         False         True   \n",
       "3              False         False         False         True   \n",
       "4              False         False         False         True   \n",
       "...              ...           ...           ...          ...   \n",
       "1454           False         False         False         True   \n",
       "1455           False         False         False         True   \n",
       "1456           False         False         False         True   \n",
       "1457           False         False         False         True   \n",
       "1458           False         False         False         True   \n",
       "\n",
       "      SaleCondition_AdjLand  SaleCondition_Alloca  SaleCondition_Family  \\\n",
       "0                     False                 False                 False   \n",
       "1                     False                 False                 False   \n",
       "2                     False                 False                 False   \n",
       "3                     False                 False                 False   \n",
       "4                     False                 False                 False   \n",
       "...                     ...                   ...                   ...   \n",
       "1454                  False                 False                 False   \n",
       "1455                  False                 False                 False   \n",
       "1456                  False                 False                 False   \n",
       "1457                  False                 False                 False   \n",
       "1458                  False                 False                 False   \n",
       "\n",
       "      SaleCondition_Normal  SaleCondition_Partial  \n",
       "0                     True                  False  \n",
       "1                     True                  False  \n",
       "2                     True                  False  \n",
       "3                    False                  False  \n",
       "4                     True                  False  \n",
       "...                    ...                    ...  \n",
       "1454                  True                  False  \n",
       "1455                 False                  False  \n",
       "1456                 False                  False  \n",
       "1457                  True                  False  \n",
       "1458                  True                  False  \n",
       "\n",
       "[2919 rows x 244 columns]"
      ]
     },
     "execution_count": 5,
     "metadata": {},
     "output_type": "execute_result"
    }
   ],
   "source": [
    "full_encoded=pd.get_dummies(full,drop_first=True)\n",
    "\n",
    "\"\"\"get dummies encodes the categroical columns automatically\n",
    "converts these categories into numeric columns (0/1) \n",
    "so models can use them.\n",
    "\"\"\"\n",
    "full_encoded"
   ]
  },
  {
   "cell_type": "markdown",
   "id": "331361a4",
   "metadata": {
    "papermill": {
     "duration": 0.003777,
     "end_time": "2025-09-15T14:58:12.282035",
     "exception": false,
     "start_time": "2025-09-15T14:58:12.278258",
     "status": "completed"
    },
    "tags": []
   },
   "source": [
    "<div style=\"font-size:26px;border-radus:10px;border-color:white;\"><p style=\"padding:10px;\">To avoid multicollinearity in linear models, we drop the first category.  </p>\n",
    "<ul>\n",
    "<li> This way, the model can infer the missing category from the others.</li>\n",
    "<li> Models Like LinearRegression(), Lasso can handle the dataset properly</li>\n",
    "</ul>\n",
    "</div>"
   ]
  },
  {
   "cell_type": "code",
   "execution_count": 6,
   "id": "7e351e49",
   "metadata": {
    "execution": {
     "iopub.execute_input": "2025-09-15T14:58:12.290734Z",
     "iopub.status.busy": "2025-09-15T14:58:12.290505Z",
     "iopub.status.idle": "2025-09-15T14:58:12.294258Z",
     "shell.execute_reply": "2025-09-15T14:58:12.293738Z"
    },
    "papermill": {
     "duration": 0.009307,
     "end_time": "2025-09-15T14:58:12.295206",
     "exception": false,
     "start_time": "2025-09-15T14:58:12.285899",
     "status": "completed"
    },
    "tags": []
   },
   "outputs": [],
   "source": [
    "#Sepearate Train and Test Datasets\n",
    "train_dataset=full_encoded.iloc[:len(train),:]\n",
    "test_dataset=full_encoded.iloc[len(train):,:]"
   ]
  },
  {
   "cell_type": "code",
   "execution_count": 7,
   "id": "2b9ab766",
   "metadata": {
    "execution": {
     "iopub.execute_input": "2025-09-15T14:58:12.303705Z",
     "iopub.status.busy": "2025-09-15T14:58:12.303494Z",
     "iopub.status.idle": "2025-09-15T14:58:12.309437Z",
     "shell.execute_reply": "2025-09-15T14:58:12.308684Z"
    },
    "papermill": {
     "duration": 0.011453,
     "end_time": "2025-09-15T14:58:12.310520",
     "exception": false,
     "start_time": "2025-09-15T14:58:12.299067",
     "status": "completed"
    },
    "tags": []
   },
   "outputs": [],
   "source": [
    "#Full Null values with zero since rest are encoded\n",
    "train_dataset=train_dataset.fillna(0)\n",
    "test_dataset=test_dataset.fillna(0)"
   ]
  },
  {
   "cell_type": "markdown",
   "id": "01171e3f",
   "metadata": {
    "papermill": {
     "duration": 0.00356,
     "end_time": "2025-09-15T14:58:12.318194",
     "exception": false,
     "start_time": "2025-09-15T14:58:12.314634",
     "status": "completed"
    },
    "tags": []
   },
   "source": [
    "# <div style=\"background-color:white;padding:20px;box-shadow:10px 10px  gray;color:black;font-size:40px;text-align:center;border-radius:20px\">2- Models</div>"
   ]
  },
  {
   "cell_type": "markdown",
   "id": "e85c578a",
   "metadata": {
    "papermill": {
     "duration": 0.003609,
     "end_time": "2025-09-15T14:58:12.325531",
     "exception": false,
     "start_time": "2025-09-15T14:58:12.321922",
     "status": "completed"
    },
    "tags": []
   },
   "source": [
    "<div style=\"font-size:26px;border-radus:10px;border-color:white;\"><h4>Now we will try Different models and see which will get us higher accuracy and peformance, we will try the following models</h4>\n",
    "<ol>\n",
    "<li>LinearRegression()</li>\n",
    "<li>Polynomial</li>\n",
    "<li>Lasso</li>\n",
    "<li>Ridge</li>\n",
    "</ol>\n",
    "</div>"
   ]
  },
  {
   "cell_type": "code",
   "execution_count": 8,
   "id": "7519882a",
   "metadata": {
    "execution": {
     "iopub.execute_input": "2025-09-15T14:58:12.333984Z",
     "iopub.status.busy": "2025-09-15T14:58:12.333740Z",
     "iopub.status.idle": "2025-09-15T14:58:12.337793Z",
     "shell.execute_reply": "2025-09-15T14:58:12.336867Z"
    },
    "papermill": {
     "duration": 0.010188,
     "end_time": "2025-09-15T14:58:12.339370",
     "exception": false,
     "start_time": "2025-09-15T14:58:12.329182",
     "status": "completed"
    },
    "tags": []
   },
   "outputs": [],
   "source": [
    "#imports\n",
    "from sklearn.linear_model import LinearRegression, Lasso\n",
    "from sklearn.preprocessing import PolynomialFeatures\n",
    "from sklearn.metrics import mean_squared_error, r2_score"
   ]
  },
  {
   "cell_type": "markdown",
   "id": "ce7cf1de",
   "metadata": {
    "papermill": {
     "duration": 0.003941,
     "end_time": "2025-09-15T14:58:12.348115",
     "exception": false,
     "start_time": "2025-09-15T14:58:12.344174",
     "status": "completed"
    },
    "tags": []
   },
   "source": [
    "## 1- Linear Regression"
   ]
  },
  {
   "cell_type": "code",
   "execution_count": 9,
   "id": "decb6fe4",
   "metadata": {
    "execution": {
     "iopub.execute_input": "2025-09-15T14:58:12.357824Z",
     "iopub.status.busy": "2025-09-15T14:58:12.357552Z",
     "iopub.status.idle": "2025-09-15T14:58:12.497883Z",
     "shell.execute_reply": "2025-09-15T14:58:12.496539Z"
    },
    "papermill": {
     "duration": 0.147021,
     "end_time": "2025-09-15T14:58:12.499407",
     "exception": false,
     "start_time": "2025-09-15T14:58:12.352386",
     "status": "completed"
    },
    "tags": []
   },
   "outputs": [
    {
     "name": "stdout",
     "output_type": "stream",
     "text": [
      "Mean Squared Error (MSE): 0.31806\n",
      "Root Mean Squared Error (RMSE): 0.56396\n"
     ]
    }
   ],
   "source": [
    "#linear regression model\n",
    "model=LinearRegression()\n",
    "model.fit(train_dataset,y_train)\n",
    "prediction=model.predict(test_dataset)\n",
    "pred_exp=np.expm1(prediction)\n",
    "\n",
    "# Compute MSE\n",
    "mse = mean_squared_error(y_train[0:1459], prediction)\n",
    "rmse = np.sqrt(mse)\n",
    "\n",
    "print(f\"Mean Squared Error (MSE): {mse:.5f}\")\n",
    "print(f\"Root Mean Squared Error (RMSE): {rmse:.5f}\")"
   ]
  },
  {
   "cell_type": "markdown",
   "id": "3207f753",
   "metadata": {
    "papermill": {
     "duration": 0.005071,
     "end_time": "2025-09-15T14:58:12.510589",
     "exception": false,
     "start_time": "2025-09-15T14:58:12.505518",
     "status": "completed"
    },
    "tags": []
   },
   "source": [
    "## 2- Lasso Regression"
   ]
  },
  {
   "cell_type": "code",
   "execution_count": 10,
   "id": "e5879b5d",
   "metadata": {
    "execution": {
     "iopub.execute_input": "2025-09-15T14:58:12.522794Z",
     "iopub.status.busy": "2025-09-15T14:58:12.522304Z",
     "iopub.status.idle": "2025-09-15T14:58:12.621174Z",
     "shell.execute_reply": "2025-09-15T14:58:12.620386Z"
    },
    "papermill": {
     "duration": 0.106746,
     "end_time": "2025-09-15T14:58:12.622739",
     "exception": false,
     "start_time": "2025-09-15T14:58:12.515993",
     "status": "completed"
    },
    "tags": []
   },
   "outputs": [
    {
     "name": "stdout",
     "output_type": "stream",
     "text": [
      "Mean Squared Error: 0.28\n",
      "R-squared (R2) Score: -0.74\n",
      "Note: The coefficients for irrelevant features will be pushed towards zero.\n",
      "\n"
     ]
    }
   ],
   "source": [
    "# Lasso adds L1 regularization, which can shrink coefficients to zero,\n",
    "# effectively performing feature selection.\n",
    "# The 'alpha' parameter controls the strength of the regularization.\n",
    "\n",
    "lasso_model = Lasso(alpha=0.1)\n",
    "lasso_model.fit(train_dataset,y_train)\n",
    "y_pred_lasso = lasso_model.predict(test_dataset)\n",
    "mse_lasso = mean_squared_error(y_train[:1459], y_pred_lasso)\n",
    "r2_lasso = r2_score(y_train[:1459], y_pred_lasso)\n",
    "print(f\"Mean Squared Error: {mse_lasso:.2f}\")\n",
    "print(f\"R-squared (R2) Score: {r2_lasso:.2f}\")\n",
    "print(\"Note: The coefficients for irrelevant features will be pushed towards zero.\\n\")\n"
   ]
  },
  {
   "cell_type": "markdown",
   "id": "4f460cb3",
   "metadata": {
    "papermill": {
     "duration": 0.004021,
     "end_time": "2025-09-15T14:58:12.631759",
     "exception": false,
     "start_time": "2025-09-15T14:58:12.627738",
     "status": "completed"
    },
    "tags": []
   },
   "source": [
    "## 3- Polynomial Regression"
   ]
  },
  {
   "cell_type": "code",
   "execution_count": 11,
   "id": "c1b9c00d",
   "metadata": {
    "execution": {
     "iopub.execute_input": "2025-09-15T14:58:12.641037Z",
     "iopub.status.busy": "2025-09-15T14:58:12.640760Z",
     "iopub.status.idle": "2025-09-15T14:58:21.787649Z",
     "shell.execute_reply": "2025-09-15T14:58:21.787185Z"
    },
    "papermill": {
     "duration": 9.153029,
     "end_time": "2025-09-15T14:58:21.788838",
     "exception": false,
     "start_time": "2025-09-15T14:58:12.635809",
     "status": "completed"
    },
    "tags": []
   },
   "outputs": [
    {
     "name": "stdout",
     "output_type": "stream",
     "text": [
      "Mean Squared Error: 8.09\n",
      "R-squared (R2) Score: -49.71\n"
     ]
    }
   ],
   "source": [
    "# This model captures non-linear relationships by creating new polynomial features.\n",
    "# It is essentially a Linear Regression model trained on a transformed dataset.\n",
    "\n",
    "# Create polynomial features (e.g., x^2, x*y)\n",
    "# The degree parameter controls the complexity of the model.\n",
    "poly = PolynomialFeatures(degree=2, include_bias=False)\n",
    "X_train_poly = poly.fit_transform(train_dataset)\n",
    "X_test_poly = poly.transform(test_dataset)\n",
    "\n",
    "# Train a Linear Regression model on the new polynomial features\n",
    "poly_model = LinearRegression()\n",
    "poly_model.fit(X_train_poly, y_train)\n",
    "y_pred_poly = poly_model.predict(X_test_poly)\n",
    "\n",
    "mse_poly = mean_squared_error(y_train[:1459], y_pred_poly)\n",
    "r2_poly = r2_score(y_train[:1459], y_pred_poly)\n",
    "print(f\"Mean Squared Error: {mse_poly:.2f}\")\n",
    "print(f\"R-squared (R2) Score: {r2_poly:.2f}\")"
   ]
  },
  {
   "cell_type": "markdown",
   "id": "d8df2297",
   "metadata": {
    "papermill": {
     "duration": 0.004237,
     "end_time": "2025-09-15T14:58:21.799050",
     "exception": false,
     "start_time": "2025-09-15T14:58:21.794813",
     "status": "completed"
    },
    "tags": []
   },
   "source": [
    "## 4- Ridge"
   ]
  },
  {
   "cell_type": "code",
   "execution_count": 12,
   "id": "95a1db8d",
   "metadata": {
    "execution": {
     "iopub.execute_input": "2025-09-15T14:58:21.808224Z",
     "iopub.status.busy": "2025-09-15T14:58:21.807981Z",
     "iopub.status.idle": "2025-09-15T14:58:21.861045Z",
     "shell.execute_reply": "2025-09-15T14:58:21.860266Z"
    },
    "papermill": {
     "duration": 0.059383,
     "end_time": "2025-09-15T14:58:21.862411",
     "exception": false,
     "start_time": "2025-09-15T14:58:21.803028",
     "status": "completed"
    },
    "tags": []
   },
   "outputs": [
    {
     "name": "stdout",
     "output_type": "stream",
     "text": [
      "Ridge Regression MSE (log-space): 0.30307\n",
      "Ridge Regression RMSE (log-space): 0.55052\n"
     ]
    }
   ],
   "source": [
    "from sklearn.linear_model import Ridge\n",
    "\n",
    "ridge = Ridge(alpha=10)  # You can tune alpha later\n",
    "ridge.fit(train_dataset,y_train)\n",
    "\n",
    "# Predict on validation set\n",
    "y_pred_ridge = ridge.predict(test_dataset)\n",
    "\n",
    "# Compute MSE and RMSE\n",
    "mse = mean_squared_error(y_train[:1459], y_pred_ridge)\n",
    "rmse = np.sqrt(mse)\n",
    "\n",
    "print(f\"Ridge Regression MSE (log-space): {mse:.5f}\")\n",
    "print(f\"Ridge Regression RMSE (log-space): {rmse:.5f}\")"
   ]
  },
  {
   "cell_type": "markdown",
   "id": "f34b5a54",
   "metadata": {
    "papermill": {
     "duration": 0.005514,
     "end_time": "2025-09-15T14:58:21.874229",
     "exception": false,
     "start_time": "2025-09-15T14:58:21.868715",
     "status": "completed"
    },
    "tags": []
   },
   "source": [
    "<div style=\"font-size:26px;border-radus:10px;border-color:white;\">Based on the modelling we can conclude that:\n",
    "<ul>\n",
    "    \n",
    "\n",
    "<li>Ridge and linear are similar in MSE and RMSE</li>\n",
    "<li>Lasso was lower in MSE but higher in RMSE </li>\n",
    "<li>Polynomial Can't work on get_dummies dataset </li>\n",
    "</ul>\n",
    "</div>"
   ]
  },
  {
   "cell_type": "markdown",
   "id": "679c6ac7",
   "metadata": {
    "papermill": {
     "duration": 0.005482,
     "end_time": "2025-09-15T14:58:21.885610",
     "exception": false,
     "start_time": "2025-09-15T14:58:21.880128",
     "status": "completed"
    },
    "tags": []
   },
   "source": [
    "# Submission:"
   ]
  },
  {
   "cell_type": "code",
   "execution_count": 13,
   "id": "d7fa839b",
   "metadata": {
    "execution": {
     "iopub.execute_input": "2025-09-15T14:58:21.898100Z",
     "iopub.status.busy": "2025-09-15T14:58:21.897791Z",
     "iopub.status.idle": "2025-09-15T14:58:21.903518Z",
     "shell.execute_reply": "2025-09-15T14:58:21.902514Z"
    },
    "papermill": {
     "duration": 0.014239,
     "end_time": "2025-09-15T14:58:21.905356",
     "exception": false,
     "start_time": "2025-09-15T14:58:21.891117",
     "status": "completed"
    },
    "tags": []
   },
   "outputs": [
    {
     "data": {
      "text/plain": [
       "0       1461\n",
       "1       1462\n",
       "2       1463\n",
       "3       1464\n",
       "4       1465\n",
       "        ... \n",
       "1454    2915\n",
       "1455    2916\n",
       "1456    2917\n",
       "1457    2918\n",
       "1458    2919\n",
       "Name: Id, Length: 1459, dtype: int64"
      ]
     },
     "execution_count": 13,
     "metadata": {},
     "output_type": "execute_result"
    }
   ],
   "source": [
    "test_id=test['Id']\n",
    "test_id"
   ]
  },
  {
   "cell_type": "code",
   "execution_count": 14,
   "id": "abbf51a0",
   "metadata": {
    "execution": {
     "iopub.execute_input": "2025-09-15T14:58:21.919674Z",
     "iopub.status.busy": "2025-09-15T14:58:21.919138Z",
     "iopub.status.idle": "2025-09-15T14:58:21.922496Z",
     "shell.execute_reply": "2025-09-15T14:58:21.921965Z"
    },
    "papermill": {
     "duration": 0.011799,
     "end_time": "2025-09-15T14:58:21.923628",
     "exception": false,
     "start_time": "2025-09-15T14:58:21.911829",
     "status": "completed"
    },
    "tags": []
   },
   "outputs": [],
   "source": [
    "y_pred_r=np.expm1(y_pred_ridge)"
   ]
  },
  {
   "cell_type": "code",
   "execution_count": 15,
   "id": "a4d51da9",
   "metadata": {
    "execution": {
     "iopub.execute_input": "2025-09-15T14:58:21.937706Z",
     "iopub.status.busy": "2025-09-15T14:58:21.937381Z",
     "iopub.status.idle": "2025-09-15T14:58:21.949062Z",
     "shell.execute_reply": "2025-09-15T14:58:21.948479Z"
    },
    "papermill": {
     "duration": 0.019941,
     "end_time": "2025-09-15T14:58:21.950156",
     "exception": false,
     "start_time": "2025-09-15T14:58:21.930215",
     "status": "completed"
    },
    "tags": []
   },
   "outputs": [
    {
     "name": "stdout",
     "output_type": "stream",
     "text": [
      "Submission file created!\n"
     ]
    }
   ],
   "source": [
    "sub_data=pd.DataFrame({\n",
    "    'Id':test_id,\n",
    "    'SalePrice':y_pred_r\n",
    "})\n",
    "sub_data.to_csv(\"lassoprediction.csv\", index=False)\n",
    "print(\"Submission file created!\")"
   ]
  },
  {
   "cell_type": "markdown",
   "id": "508cffc8",
   "metadata": {
    "papermill": {
     "duration": 0.005804,
     "end_time": "2025-09-15T14:58:21.962673",
     "exception": false,
     "start_time": "2025-09-15T14:58:21.956869",
     "status": "completed"
    },
    "tags": []
   },
   "source": [
    "<div style=\"font-size:20px;\">Ridge got me the best submission score of 0.13</div> "
   ]
  },
  {
   "cell_type": "markdown",
   "id": "47a32ffb",
   "metadata": {
    "papermill": {
     "duration": 0.004513,
     "end_time": "2025-09-15T14:58:21.972940",
     "exception": false,
     "start_time": "2025-09-15T14:58:21.968427",
     "status": "completed"
    },
    "tags": []
   },
   "source": [
    "# <div style=\"background-color:white;padding:20px;box-shadow:10px 10px  gray;color:black;font-size:40px;text-align:center;border-radius:20px\">3- Plotting</div>"
   ]
  },
  {
   "cell_type": "code",
   "execution_count": 16,
   "id": "0551edf0",
   "metadata": {
    "execution": {
     "iopub.execute_input": "2025-09-15T14:58:21.982391Z",
     "iopub.status.busy": "2025-09-15T14:58:21.982093Z",
     "iopub.status.idle": "2025-09-15T14:58:22.262813Z",
     "shell.execute_reply": "2025-09-15T14:58:22.261674Z"
    },
    "papermill": {
     "duration": 0.287172,
     "end_time": "2025-09-15T14:58:22.264212",
     "exception": false,
     "start_time": "2025-09-15T14:58:21.977040",
     "status": "completed"
    },
    "tags": []
   },
   "outputs": [
    {
     "data": {
      "image/png": "[encoded data removed]",
      "text/plain": [
       "<Figure size 800x600 with 1 Axes>"
      ]
     },
     "metadata": {},
     "output_type": "display_data"
    }
   ],
   "source": [
    "import matplotlib.pyplot as plt\n",
    "\n",
    "y_train_exp=np.expm1(y_train[0:1459])\n",
    "\n",
    "plt.figure(figsize=(8,6))\n",
    "plt.scatter(y_train_exp, y_pred_r, alpha=0.5)\n",
    "plt.plot([y_train_exp.min(), y_train_exp.max()], [y_train_exp.min(), y_train_exp.max()], 'r--', lw=2)  # 45-degree line\n",
    "plt.xlabel(\"Actual SalePrice\")\n",
    "plt.ylabel(\"Predicted SalePrice\")\n",
    "plt.title(\"Predicted vs Actual SalePrice\")\n",
    "plt.show()"
   ]
  },
  {
   "cell_type": "code",
   "execution_count": 17,
   "id": "3f6bc472",
   "metadata": {
    "execution": {
     "iopub.execute_input": "2025-09-15T14:58:22.276724Z",
     "iopub.status.busy": "2025-09-15T14:58:22.276488Z",
     "iopub.status.idle": "2025-09-15T14:58:22.519165Z",
     "shell.execute_reply": "2025-09-15T14:58:22.518498Z"
    },
    "papermill": {
     "duration": 0.250485,
     "end_time": "2025-09-15T14:58:22.520530",
     "exception": false,
     "start_time": "2025-09-15T14:58:22.270045",
     "status": "completed"
    },
    "tags": []
   },
   "outputs": [
    {
     "data": {
      "image/png": "[encoded data removed]",
      "text/plain": [
       "<Figure size 800x600 with 1 Axes>"
      ]
     },
     "metadata": {},
     "output_type": "display_data"
    }
   ],
   "source": [
    "residuals = y_train_exp - y_pred_r\n",
    "\n",
    "plt.figure(figsize=(8,6))\n",
    "plt.scatter(y_pred_r, residuals, alpha=0.5)\n",
    "plt.axhline(0, color='red', linestyle='--')\n",
    "plt.xlabel(\"Predicted SalePrice\")\n",
    "plt.ylabel(\"Residuals\")\n",
    "plt.title(\"Residual Plot\")\n",
    "plt.show()"
   ]
  },
  {
   "cell_type": "code",
   "execution_count": 18,
   "id": "6b96a993",
   "metadata": {
    "execution": {
     "iopub.execute_input": "2025-09-15T14:58:22.537219Z",
     "iopub.status.busy": "2025-09-15T14:58:22.536972Z",
     "iopub.status.idle": "2025-09-15T14:58:23.175071Z",
     "shell.execute_reply": "2025-09-15T14:58:23.174368Z"
    },
    "papermill": {
     "duration": 0.646792,
     "end_time": "2025-09-15T14:58:23.176099",
     "exception": false,
     "start_time": "2025-09-15T14:58:22.529307",
     "status": "completed"
    },
    "tags": []
   },
   "outputs": [
    {
     "name": "stderr",
     "output_type": "stream",
     "text": [
      "/usr/local/lib/python3.11/dist-packages/seaborn/_oldcore.py:1119: FutureWarning: use_inf_as_na option is deprecated and will be removed in a future version. Convert inf values to NaN before operating instead.\n",
      "  with pd.option_context('mode.use_inf_as_na', True):\n",
      "/usr/local/lib/python3.11/dist-packages/seaborn/_oldcore.py:1119: FutureWarning: use_inf_as_na option is deprecated and will be removed in a future version. Convert inf values to NaN before operating instead.\n",
      "  with pd.option_context('mode.use_inf_as_na', True):\n"
     ]
    },
    {
     "data": {
      "image/png": "[encoded data removed]",
      "text/plain": [
       "<Figure size 800x600 with 1 Axes>"
      ]
     },
     "metadata": {},
     "output_type": "display_data"
    }
   ],
   "source": [
    "import seaborn as sns\n",
    "\n",
    "plt.figure(figsize=(8,6))\n",
    "sns.kdeplot(y_train_exp, label=\"Actual\", fill=True)\n",
    "sns.kdeplot(y_pred_r, label=\"Predicted\", fill=True)\n",
    "plt.legend()\n",
    "plt.title(\"Distribution of Actual vs Predicted SalePrice\")\n",
    "plt.show()"
   ]
  }
 ],
 "metadata": {
  "kaggle": {
   "accelerator": "none",
   "dataSources": [
    {
     "databundleVersionId": 868283,
     "sourceId": 5407,
     "sourceType": "competition"
    }
   ],
   "dockerImageVersionId": 31089,
   "isGpuEnabled": false,
   "isInternetEnabled": true,
   "language": "python",
   "sourceType": "notebook"
  },
  "kernelspec": {
   "display_name": "Python 3",
   "language": "python",
   "name": "python3"
  },
  "language_info": {
   "codemirror_mode": {
    "name": "ipython",
    "version": 3
   },
   "file_extension": ".py",
   "mimetype": "text/x-python",
   "name": "python",
   "nbconvert_exporter": "python",
   "pygments_lexer": "ipython3",
   "version": "3.11.13"
  },
  "papermill": {
   "default_parameters": {},
   "duration": 20.196243,
   "end_time": "2025-09-15T14:58:24.005900",
   "environment_variables": {},
   "exception": null,
   "input_path": "__notebook__.ipynb",
   "output_path": "__notebook__.ipynb",
   "parameters": {},
   "start_time": "2025-09-15T14:58:03.809657",
   "version": "2.6.0"
  }
 },
 "nbformat": 4,
 "nbformat_minor": 5
}
